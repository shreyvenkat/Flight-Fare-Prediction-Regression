{
  "cells": [
    {
      "cell_type": "code",
      "execution_count": null,
      "metadata": {
        "id": "LEWHEcJo0dsl",
        "colab": {
          "base_uri": "https://localhost:8080/"
        },
        "outputId": "3b8a0031-6ce1-4a35-a32b-d491c3ad0034"
      },
      "outputs": [
        {
          "output_type": "stream",
          "name": "stderr",
          "text": [
            "/usr/local/lib/python3.10/dist-packages/dask/dataframe/__init__.py:42: FutureWarning: \n",
            "Dask dataframe query planning is disabled because dask-expr is not installed.\n",
            "\n",
            "You can install it with `pip install dask[dataframe]` or `conda install dask`.\n",
            "This will raise in a future version.\n",
            "\n",
            "  warnings.warn(msg, FutureWarning)\n"
          ]
        }
      ],
      "source": [
        "import pandas as pd\n",
        "import seaborn as sns\n",
        "import matplotlib.pyplot as plt\n",
        "%matplotlib inline\n",
        "from sklearn.preprocessing import StandardScaler\n",
        "from sklearn.model_selection import train_test_split as tts\n",
        "from sklearn.ensemble import RandomForestRegressor,GradientBoostingRegressor\n",
        "from lightgbm import LGBMRegressor\n",
        "from xgboost import XGBRegressor\n",
        "from sklearn.metrics import mean_squared_error as MSE,mean_absolute_error as MAE,accuracy_score,r2_score\n",
        "from numpy import mean\n",
        "from numpy import absolute\n",
        "from numpy import sqrt\n",
        "import numpy as np\n",
        "from numpy import arange"
      ]
    },
    {
      "cell_type": "markdown",
      "metadata": {
        "id": "S6lsXsFPf8R3"
      },
      "source": [
        "**##Preliminary Data Anlaysis and Data cleaning###**"
      ]
    },
    {
      "cell_type": "code",
      "execution_count": null,
      "metadata": {
        "colab": {
          "base_uri": "https://localhost:8080/",
          "height": 469
        },
        "id": "c3pWtsEO0g1m",
        "outputId": "aec21d45-f4d2-4714-ebc1-cd0d0a7ba2b8"
      },
      "outputs": [
        {
          "output_type": "execute_result",
          "data": {
            "text/plain": [
              "           Airline Date_of_Journey    Source Destination  \\\n",
              "10678     Air Asia       9/04/2019   Kolkata    Banglore   \n",
              "10679    Air India      27/04/2019   Kolkata    Banglore   \n",
              "10680  Jet Airways      27/04/2019  Banglore       Delhi   \n",
              "10681      Vistara      01/03/2019  Banglore   New Delhi   \n",
              "10682    Air India       9/05/2019     Delhi      Cochin   \n",
              "\n",
              "                       Route Dep_Time Arrival_Time Duration Total_Stops  \\\n",
              "10678              CCU → BLR    19:55        22:25   2h 30m    non-stop   \n",
              "10679              CCU → BLR    20:45        23:20   2h 35m    non-stop   \n",
              "10680              BLR → DEL    08:20        11:20       3h    non-stop   \n",
              "10681              BLR → DEL    11:30        14:10   2h 40m    non-stop   \n",
              "10682  DEL → GOI → BOM → COK    10:55        19:15   8h 20m     2 stops   \n",
              "\n",
              "      Additional_Info  Price  \n",
              "10678         No info   4107  \n",
              "10679         No info   4145  \n",
              "10680         No info   7229  \n",
              "10681         No info  12648  \n",
              "10682         No info  11753  "
            ],
            "text/html": [
              "\n",
              "  <div id=\"df-76da1f68-389d-4756-822c-1af6f0c28898\" class=\"colab-df-container\">\n",
              "    <div>\n",
              "<style scoped>\n",
              "    .dataframe tbody tr th:only-of-type {\n",
              "        vertical-align: middle;\n",
              "    }\n",
              "\n",
              "    .dataframe tbody tr th {\n",
              "        vertical-align: top;\n",
              "    }\n",
              "\n",
              "    .dataframe thead th {\n",
              "        text-align: right;\n",
              "    }\n",
              "</style>\n",
              "<table border=\"1\" class=\"dataframe\">\n",
              "  <thead>\n",
              "    <tr style=\"text-align: right;\">\n",
              "      <th></th>\n",
              "      <th>Airline</th>\n",
              "      <th>Date_of_Journey</th>\n",
              "      <th>Source</th>\n",
              "      <th>Destination</th>\n",
              "      <th>Route</th>\n",
              "      <th>Dep_Time</th>\n",
              "      <th>Arrival_Time</th>\n",
              "      <th>Duration</th>\n",
              "      <th>Total_Stops</th>\n",
              "      <th>Additional_Info</th>\n",
              "      <th>Price</th>\n",
              "    </tr>\n",
              "  </thead>\n",
              "  <tbody>\n",
              "    <tr>\n",
              "      <th>10678</th>\n",
              "      <td>Air Asia</td>\n",
              "      <td>9/04/2019</td>\n",
              "      <td>Kolkata</td>\n",
              "      <td>Banglore</td>\n",
              "      <td>CCU → BLR</td>\n",
              "      <td>19:55</td>\n",
              "      <td>22:25</td>\n",
              "      <td>2h 30m</td>\n",
              "      <td>non-stop</td>\n",
              "      <td>No info</td>\n",
              "      <td>4107</td>\n",
              "    </tr>\n",
              "    <tr>\n",
              "      <th>10679</th>\n",
              "      <td>Air India</td>\n",
              "      <td>27/04/2019</td>\n",
              "      <td>Kolkata</td>\n",
              "      <td>Banglore</td>\n",
              "      <td>CCU → BLR</td>\n",
              "      <td>20:45</td>\n",
              "      <td>23:20</td>\n",
              "      <td>2h 35m</td>\n",
              "      <td>non-stop</td>\n",
              "      <td>No info</td>\n",
              "      <td>4145</td>\n",
              "    </tr>\n",
              "    <tr>\n",
              "      <th>10680</th>\n",
              "      <td>Jet Airways</td>\n",
              "      <td>27/04/2019</td>\n",
              "      <td>Banglore</td>\n",
              "      <td>Delhi</td>\n",
              "      <td>BLR → DEL</td>\n",
              "      <td>08:20</td>\n",
              "      <td>11:20</td>\n",
              "      <td>3h</td>\n",
              "      <td>non-stop</td>\n",
              "      <td>No info</td>\n",
              "      <td>7229</td>\n",
              "    </tr>\n",
              "    <tr>\n",
              "      <th>10681</th>\n",
              "      <td>Vistara</td>\n",
              "      <td>01/03/2019</td>\n",
              "      <td>Banglore</td>\n",
              "      <td>New Delhi</td>\n",
              "      <td>BLR → DEL</td>\n",
              "      <td>11:30</td>\n",
              "      <td>14:10</td>\n",
              "      <td>2h 40m</td>\n",
              "      <td>non-stop</td>\n",
              "      <td>No info</td>\n",
              "      <td>12648</td>\n",
              "    </tr>\n",
              "    <tr>\n",
              "      <th>10682</th>\n",
              "      <td>Air India</td>\n",
              "      <td>9/05/2019</td>\n",
              "      <td>Delhi</td>\n",
              "      <td>Cochin</td>\n",
              "      <td>DEL → GOI → BOM → COK</td>\n",
              "      <td>10:55</td>\n",
              "      <td>19:15</td>\n",
              "      <td>8h 20m</td>\n",
              "      <td>2 stops</td>\n",
              "      <td>No info</td>\n",
              "      <td>11753</td>\n",
              "    </tr>\n",
              "  </tbody>\n",
              "</table>\n",
              "</div>\n",
              "    <div class=\"colab-df-buttons\">\n",
              "\n",
              "  <div class=\"colab-df-container\">\n",
              "    <button class=\"colab-df-convert\" onclick=\"convertToInteractive('df-76da1f68-389d-4756-822c-1af6f0c28898')\"\n",
              "            title=\"Convert this dataframe to an interactive table.\"\n",
              "            style=\"display:none;\">\n",
              "\n",
              "  <svg xmlns=\"http://www.w3.org/2000/svg\" height=\"24px\" viewBox=\"0 -960 960 960\">\n",
              "    <path d=\"M120-120v-720h720v720H120Zm60-500h600v-160H180v160Zm220 220h160v-160H400v160Zm0 220h160v-160H400v160ZM180-400h160v-160H180v160Zm440 0h160v-160H620v160ZM180-180h160v-160H180v160Zm440 0h160v-160H620v160Z\"/>\n",
              "  </svg>\n",
              "    </button>\n",
              "\n",
              "  <style>\n",
              "    .colab-df-container {\n",
              "      display:flex;\n",
              "      gap: 12px;\n",
              "    }\n",
              "\n",
              "    .colab-df-convert {\n",
              "      background-color: #E8F0FE;\n",
              "      border: none;\n",
              "      border-radius: 50%;\n",
              "      cursor: pointer;\n",
              "      display: none;\n",
              "      fill: #1967D2;\n",
              "      height: 32px;\n",
              "      padding: 0 0 0 0;\n",
              "      width: 32px;\n",
              "    }\n",
              "\n",
              "    .colab-df-convert:hover {\n",
              "      background-color: #E2EBFA;\n",
              "      box-shadow: 0px 1px 2px rgba(60, 64, 67, 0.3), 0px 1px 3px 1px rgba(60, 64, 67, 0.15);\n",
              "      fill: #174EA6;\n",
              "    }\n",
              "\n",
              "    .colab-df-buttons div {\n",
              "      margin-bottom: 4px;\n",
              "    }\n",
              "\n",
              "    [theme=dark] .colab-df-convert {\n",
              "      background-color: #3B4455;\n",
              "      fill: #D2E3FC;\n",
              "    }\n",
              "\n",
              "    [theme=dark] .colab-df-convert:hover {\n",
              "      background-color: #434B5C;\n",
              "      box-shadow: 0px 1px 3px 1px rgba(0, 0, 0, 0.15);\n",
              "      filter: drop-shadow(0px 1px 2px rgba(0, 0, 0, 0.3));\n",
              "      fill: #FFFFFF;\n",
              "    }\n",
              "  </style>\n",
              "\n",
              "    <script>\n",
              "      const buttonEl =\n",
              "        document.querySelector('#df-76da1f68-389d-4756-822c-1af6f0c28898 button.colab-df-convert');\n",
              "      buttonEl.style.display =\n",
              "        google.colab.kernel.accessAllowed ? 'block' : 'none';\n",
              "\n",
              "      async function convertToInteractive(key) {\n",
              "        const element = document.querySelector('#df-76da1f68-389d-4756-822c-1af6f0c28898');\n",
              "        const dataTable =\n",
              "          await google.colab.kernel.invokeFunction('convertToInteractive',\n",
              "                                                    [key], {});\n",
              "        if (!dataTable) return;\n",
              "\n",
              "        const docLinkHtml = 'Like what you see? Visit the ' +\n",
              "          '<a target=\"_blank\" href=https://colab.research.google.com/notebooks/data_table.ipynb>data table notebook</a>'\n",
              "          + ' to learn more about interactive tables.';\n",
              "        element.innerHTML = '';\n",
              "        dataTable['output_type'] = 'display_data';\n",
              "        await google.colab.output.renderOutput(dataTable, element);\n",
              "        const docLink = document.createElement('div');\n",
              "        docLink.innerHTML = docLinkHtml;\n",
              "        element.appendChild(docLink);\n",
              "      }\n",
              "    </script>\n",
              "  </div>\n",
              "\n",
              "\n",
              "<div id=\"df-7e7328e9-7ea4-41c6-8d4e-296b01541b41\">\n",
              "  <button class=\"colab-df-quickchart\" onclick=\"quickchart('df-7e7328e9-7ea4-41c6-8d4e-296b01541b41')\"\n",
              "            title=\"Suggest charts\"\n",
              "            style=\"display:none;\">\n",
              "\n",
              "<svg xmlns=\"http://www.w3.org/2000/svg\" height=\"24px\"viewBox=\"0 0 24 24\"\n",
              "     width=\"24px\">\n",
              "    <g>\n",
              "        <path d=\"M19 3H5c-1.1 0-2 .9-2 2v14c0 1.1.9 2 2 2h14c1.1 0 2-.9 2-2V5c0-1.1-.9-2-2-2zM9 17H7v-7h2v7zm4 0h-2V7h2v10zm4 0h-2v-4h2v4z\"/>\n",
              "    </g>\n",
              "</svg>\n",
              "  </button>\n",
              "\n",
              "<style>\n",
              "  .colab-df-quickchart {\n",
              "      --bg-color: #E8F0FE;\n",
              "      --fill-color: #1967D2;\n",
              "      --hover-bg-color: #E2EBFA;\n",
              "      --hover-fill-color: #174EA6;\n",
              "      --disabled-fill-color: #AAA;\n",
              "      --disabled-bg-color: #DDD;\n",
              "  }\n",
              "\n",
              "  [theme=dark] .colab-df-quickchart {\n",
              "      --bg-color: #3B4455;\n",
              "      --fill-color: #D2E3FC;\n",
              "      --hover-bg-color: #434B5C;\n",
              "      --hover-fill-color: #FFFFFF;\n",
              "      --disabled-bg-color: #3B4455;\n",
              "      --disabled-fill-color: #666;\n",
              "  }\n",
              "\n",
              "  .colab-df-quickchart {\n",
              "    background-color: var(--bg-color);\n",
              "    border: none;\n",
              "    border-radius: 50%;\n",
              "    cursor: pointer;\n",
              "    display: none;\n",
              "    fill: var(--fill-color);\n",
              "    height: 32px;\n",
              "    padding: 0;\n",
              "    width: 32px;\n",
              "  }\n",
              "\n",
              "  .colab-df-quickchart:hover {\n",
              "    background-color: var(--hover-bg-color);\n",
              "    box-shadow: 0 1px 2px rgba(60, 64, 67, 0.3), 0 1px 3px 1px rgba(60, 64, 67, 0.15);\n",
              "    fill: var(--button-hover-fill-color);\n",
              "  }\n",
              "\n",
              "  .colab-df-quickchart-complete:disabled,\n",
              "  .colab-df-quickchart-complete:disabled:hover {\n",
              "    background-color: var(--disabled-bg-color);\n",
              "    fill: var(--disabled-fill-color);\n",
              "    box-shadow: none;\n",
              "  }\n",
              "\n",
              "  .colab-df-spinner {\n",
              "    border: 2px solid var(--fill-color);\n",
              "    border-color: transparent;\n",
              "    border-bottom-color: var(--fill-color);\n",
              "    animation:\n",
              "      spin 1s steps(1) infinite;\n",
              "  }\n",
              "\n",
              "  @keyframes spin {\n",
              "    0% {\n",
              "      border-color: transparent;\n",
              "      border-bottom-color: var(--fill-color);\n",
              "      border-left-color: var(--fill-color);\n",
              "    }\n",
              "    20% {\n",
              "      border-color: transparent;\n",
              "      border-left-color: var(--fill-color);\n",
              "      border-top-color: var(--fill-color);\n",
              "    }\n",
              "    30% {\n",
              "      border-color: transparent;\n",
              "      border-left-color: var(--fill-color);\n",
              "      border-top-color: var(--fill-color);\n",
              "      border-right-color: var(--fill-color);\n",
              "    }\n",
              "    40% {\n",
              "      border-color: transparent;\n",
              "      border-right-color: var(--fill-color);\n",
              "      border-top-color: var(--fill-color);\n",
              "    }\n",
              "    60% {\n",
              "      border-color: transparent;\n",
              "      border-right-color: var(--fill-color);\n",
              "    }\n",
              "    80% {\n",
              "      border-color: transparent;\n",
              "      border-right-color: var(--fill-color);\n",
              "      border-bottom-color: var(--fill-color);\n",
              "    }\n",
              "    90% {\n",
              "      border-color: transparent;\n",
              "      border-bottom-color: var(--fill-color);\n",
              "    }\n",
              "  }\n",
              "</style>\n",
              "\n",
              "  <script>\n",
              "    async function quickchart(key) {\n",
              "      const quickchartButtonEl =\n",
              "        document.querySelector('#' + key + ' button');\n",
              "      quickchartButtonEl.disabled = true;  // To prevent multiple clicks.\n",
              "      quickchartButtonEl.classList.add('colab-df-spinner');\n",
              "      try {\n",
              "        const charts = await google.colab.kernel.invokeFunction(\n",
              "            'suggestCharts', [key], {});\n",
              "      } catch (error) {\n",
              "        console.error('Error during call to suggestCharts:', error);\n",
              "      }\n",
              "      quickchartButtonEl.classList.remove('colab-df-spinner');\n",
              "      quickchartButtonEl.classList.add('colab-df-quickchart-complete');\n",
              "    }\n",
              "    (() => {\n",
              "      let quickchartButtonEl =\n",
              "        document.querySelector('#df-7e7328e9-7ea4-41c6-8d4e-296b01541b41 button');\n",
              "      quickchartButtonEl.style.display =\n",
              "        google.colab.kernel.accessAllowed ? 'block' : 'none';\n",
              "    })();\n",
              "  </script>\n",
              "</div>\n",
              "\n",
              "    </div>\n",
              "  </div>\n"
            ],
            "application/vnd.google.colaboratory.intrinsic+json": {
              "type": "dataframe",
              "repr_error": "0"
            }
          },
          "metadata": {},
          "execution_count": 3
        }
      ],
      "source": [
        "##Reading the data from training set\n",
        "df_train=pd.read_excel('Data_Train.xlsx')\n",
        "df_train.tail()\n"
      ]
    },
    {
      "cell_type": "code",
      "execution_count": null,
      "metadata": {
        "colab": {
          "base_uri": "https://localhost:8080/",
          "height": 538
        },
        "id": "7eJrsLhD1sep",
        "outputId": "b9c93253-5b99-41b1-a643-b2d77df407df"
      },
      "outputs": [
        {
          "output_type": "execute_result",
          "data": {
            "text/plain": [
              "                Airline Date_of_Journey   Source Destination            Route  \\\n",
              "2666          Air India       6/06/2019  Kolkata    Banglore  CCU → DEL → BLR   \n",
              "2667             IndiGo      27/03/2019  Kolkata    Banglore        CCU → BLR   \n",
              "2668        Jet Airways       6/03/2019    Delhi      Cochin  DEL → BOM → COK   \n",
              "2669          Air India       6/03/2019    Delhi      Cochin  DEL → BOM → COK   \n",
              "2670  Multiple carriers      15/06/2019    Delhi      Cochin  DEL → BOM → COK   \n",
              "\n",
              "     Dep_Time  Arrival_Time Duration Total_Stops Additional_Info  \n",
              "2666    20:30  20:25 07 Jun  23h 55m      1 stop         No info  \n",
              "2667    14:20         16:55   2h 35m    non-stop         No info  \n",
              "2668    21:50  04:25 07 Mar   6h 35m      1 stop         No info  \n",
              "2669    04:00         19:15  15h 15m      1 stop         No info  \n",
              "2670    04:55         19:15  14h 20m      1 stop         No info  "
            ],
            "text/html": [
              "\n",
              "  <div id=\"df-8408bd15-9188-4a59-9e9d-bdd4ab5a0aa7\" class=\"colab-df-container\">\n",
              "    <div>\n",
              "<style scoped>\n",
              "    .dataframe tbody tr th:only-of-type {\n",
              "        vertical-align: middle;\n",
              "    }\n",
              "\n",
              "    .dataframe tbody tr th {\n",
              "        vertical-align: top;\n",
              "    }\n",
              "\n",
              "    .dataframe thead th {\n",
              "        text-align: right;\n",
              "    }\n",
              "</style>\n",
              "<table border=\"1\" class=\"dataframe\">\n",
              "  <thead>\n",
              "    <tr style=\"text-align: right;\">\n",
              "      <th></th>\n",
              "      <th>Airline</th>\n",
              "      <th>Date_of_Journey</th>\n",
              "      <th>Source</th>\n",
              "      <th>Destination</th>\n",
              "      <th>Route</th>\n",
              "      <th>Dep_Time</th>\n",
              "      <th>Arrival_Time</th>\n",
              "      <th>Duration</th>\n",
              "      <th>Total_Stops</th>\n",
              "      <th>Additional_Info</th>\n",
              "    </tr>\n",
              "  </thead>\n",
              "  <tbody>\n",
              "    <tr>\n",
              "      <th>2666</th>\n",
              "      <td>Air India</td>\n",
              "      <td>6/06/2019</td>\n",
              "      <td>Kolkata</td>\n",
              "      <td>Banglore</td>\n",
              "      <td>CCU → DEL → BLR</td>\n",
              "      <td>20:30</td>\n",
              "      <td>20:25 07 Jun</td>\n",
              "      <td>23h 55m</td>\n",
              "      <td>1 stop</td>\n",
              "      <td>No info</td>\n",
              "    </tr>\n",
              "    <tr>\n",
              "      <th>2667</th>\n",
              "      <td>IndiGo</td>\n",
              "      <td>27/03/2019</td>\n",
              "      <td>Kolkata</td>\n",
              "      <td>Banglore</td>\n",
              "      <td>CCU → BLR</td>\n",
              "      <td>14:20</td>\n",
              "      <td>16:55</td>\n",
              "      <td>2h 35m</td>\n",
              "      <td>non-stop</td>\n",
              "      <td>No info</td>\n",
              "    </tr>\n",
              "    <tr>\n",
              "      <th>2668</th>\n",
              "      <td>Jet Airways</td>\n",
              "      <td>6/03/2019</td>\n",
              "      <td>Delhi</td>\n",
              "      <td>Cochin</td>\n",
              "      <td>DEL → BOM → COK</td>\n",
              "      <td>21:50</td>\n",
              "      <td>04:25 07 Mar</td>\n",
              "      <td>6h 35m</td>\n",
              "      <td>1 stop</td>\n",
              "      <td>No info</td>\n",
              "    </tr>\n",
              "    <tr>\n",
              "      <th>2669</th>\n",
              "      <td>Air India</td>\n",
              "      <td>6/03/2019</td>\n",
              "      <td>Delhi</td>\n",
              "      <td>Cochin</td>\n",
              "      <td>DEL → BOM → COK</td>\n",
              "      <td>04:00</td>\n",
              "      <td>19:15</td>\n",
              "      <td>15h 15m</td>\n",
              "      <td>1 stop</td>\n",
              "      <td>No info</td>\n",
              "    </tr>\n",
              "    <tr>\n",
              "      <th>2670</th>\n",
              "      <td>Multiple carriers</td>\n",
              "      <td>15/06/2019</td>\n",
              "      <td>Delhi</td>\n",
              "      <td>Cochin</td>\n",
              "      <td>DEL → BOM → COK</td>\n",
              "      <td>04:55</td>\n",
              "      <td>19:15</td>\n",
              "      <td>14h 20m</td>\n",
              "      <td>1 stop</td>\n",
              "      <td>No info</td>\n",
              "    </tr>\n",
              "  </tbody>\n",
              "</table>\n",
              "</div>\n",
              "    <div class=\"colab-df-buttons\">\n",
              "\n",
              "  <div class=\"colab-df-container\">\n",
              "    <button class=\"colab-df-convert\" onclick=\"convertToInteractive('df-8408bd15-9188-4a59-9e9d-bdd4ab5a0aa7')\"\n",
              "            title=\"Convert this dataframe to an interactive table.\"\n",
              "            style=\"display:none;\">\n",
              "\n",
              "  <svg xmlns=\"http://www.w3.org/2000/svg\" height=\"24px\" viewBox=\"0 -960 960 960\">\n",
              "    <path d=\"M120-120v-720h720v720H120Zm60-500h600v-160H180v160Zm220 220h160v-160H400v160Zm0 220h160v-160H400v160ZM180-400h160v-160H180v160Zm440 0h160v-160H620v160ZM180-180h160v-160H180v160Zm440 0h160v-160H620v160Z\"/>\n",
              "  </svg>\n",
              "    </button>\n",
              "\n",
              "  <style>\n",
              "    .colab-df-container {\n",
              "      display:flex;\n",
              "      gap: 12px;\n",
              "    }\n",
              "\n",
              "    .colab-df-convert {\n",
              "      background-color: #E8F0FE;\n",
              "      border: none;\n",
              "      border-radius: 50%;\n",
              "      cursor: pointer;\n",
              "      display: none;\n",
              "      fill: #1967D2;\n",
              "      height: 32px;\n",
              "      padding: 0 0 0 0;\n",
              "      width: 32px;\n",
              "    }\n",
              "\n",
              "    .colab-df-convert:hover {\n",
              "      background-color: #E2EBFA;\n",
              "      box-shadow: 0px 1px 2px rgba(60, 64, 67, 0.3), 0px 1px 3px 1px rgba(60, 64, 67, 0.15);\n",
              "      fill: #174EA6;\n",
              "    }\n",
              "\n",
              "    .colab-df-buttons div {\n",
              "      margin-bottom: 4px;\n",
              "    }\n",
              "\n",
              "    [theme=dark] .colab-df-convert {\n",
              "      background-color: #3B4455;\n",
              "      fill: #D2E3FC;\n",
              "    }\n",
              "\n",
              "    [theme=dark] .colab-df-convert:hover {\n",
              "      background-color: #434B5C;\n",
              "      box-shadow: 0px 1px 3px 1px rgba(0, 0, 0, 0.15);\n",
              "      filter: drop-shadow(0px 1px 2px rgba(0, 0, 0, 0.3));\n",
              "      fill: #FFFFFF;\n",
              "    }\n",
              "  </style>\n",
              "\n",
              "    <script>\n",
              "      const buttonEl =\n",
              "        document.querySelector('#df-8408bd15-9188-4a59-9e9d-bdd4ab5a0aa7 button.colab-df-convert');\n",
              "      buttonEl.style.display =\n",
              "        google.colab.kernel.accessAllowed ? 'block' : 'none';\n",
              "\n",
              "      async function convertToInteractive(key) {\n",
              "        const element = document.querySelector('#df-8408bd15-9188-4a59-9e9d-bdd4ab5a0aa7');\n",
              "        const dataTable =\n",
              "          await google.colab.kernel.invokeFunction('convertToInteractive',\n",
              "                                                    [key], {});\n",
              "        if (!dataTable) return;\n",
              "\n",
              "        const docLinkHtml = 'Like what you see? Visit the ' +\n",
              "          '<a target=\"_blank\" href=https://colab.research.google.com/notebooks/data_table.ipynb>data table notebook</a>'\n",
              "          + ' to learn more about interactive tables.';\n",
              "        element.innerHTML = '';\n",
              "        dataTable['output_type'] = 'display_data';\n",
              "        await google.colab.output.renderOutput(dataTable, element);\n",
              "        const docLink = document.createElement('div');\n",
              "        docLink.innerHTML = docLinkHtml;\n",
              "        element.appendChild(docLink);\n",
              "      }\n",
              "    </script>\n",
              "  </div>\n",
              "\n",
              "\n",
              "<div id=\"df-18cae0d9-f39a-4901-a7b6-f56c7cf111bd\">\n",
              "  <button class=\"colab-df-quickchart\" onclick=\"quickchart('df-18cae0d9-f39a-4901-a7b6-f56c7cf111bd')\"\n",
              "            title=\"Suggest charts\"\n",
              "            style=\"display:none;\">\n",
              "\n",
              "<svg xmlns=\"http://www.w3.org/2000/svg\" height=\"24px\"viewBox=\"0 0 24 24\"\n",
              "     width=\"24px\">\n",
              "    <g>\n",
              "        <path d=\"M19 3H5c-1.1 0-2 .9-2 2v14c0 1.1.9 2 2 2h14c1.1 0 2-.9 2-2V5c0-1.1-.9-2-2-2zM9 17H7v-7h2v7zm4 0h-2V7h2v10zm4 0h-2v-4h2v4z\"/>\n",
              "    </g>\n",
              "</svg>\n",
              "  </button>\n",
              "\n",
              "<style>\n",
              "  .colab-df-quickchart {\n",
              "      --bg-color: #E8F0FE;\n",
              "      --fill-color: #1967D2;\n",
              "      --hover-bg-color: #E2EBFA;\n",
              "      --hover-fill-color: #174EA6;\n",
              "      --disabled-fill-color: #AAA;\n",
              "      --disabled-bg-color: #DDD;\n",
              "  }\n",
              "\n",
              "  [theme=dark] .colab-df-quickchart {\n",
              "      --bg-color: #3B4455;\n",
              "      --fill-color: #D2E3FC;\n",
              "      --hover-bg-color: #434B5C;\n",
              "      --hover-fill-color: #FFFFFF;\n",
              "      --disabled-bg-color: #3B4455;\n",
              "      --disabled-fill-color: #666;\n",
              "  }\n",
              "\n",
              "  .colab-df-quickchart {\n",
              "    background-color: var(--bg-color);\n",
              "    border: none;\n",
              "    border-radius: 50%;\n",
              "    cursor: pointer;\n",
              "    display: none;\n",
              "    fill: var(--fill-color);\n",
              "    height: 32px;\n",
              "    padding: 0;\n",
              "    width: 32px;\n",
              "  }\n",
              "\n",
              "  .colab-df-quickchart:hover {\n",
              "    background-color: var(--hover-bg-color);\n",
              "    box-shadow: 0 1px 2px rgba(60, 64, 67, 0.3), 0 1px 3px 1px rgba(60, 64, 67, 0.15);\n",
              "    fill: var(--button-hover-fill-color);\n",
              "  }\n",
              "\n",
              "  .colab-df-quickchart-complete:disabled,\n",
              "  .colab-df-quickchart-complete:disabled:hover {\n",
              "    background-color: var(--disabled-bg-color);\n",
              "    fill: var(--disabled-fill-color);\n",
              "    box-shadow: none;\n",
              "  }\n",
              "\n",
              "  .colab-df-spinner {\n",
              "    border: 2px solid var(--fill-color);\n",
              "    border-color: transparent;\n",
              "    border-bottom-color: var(--fill-color);\n",
              "    animation:\n",
              "      spin 1s steps(1) infinite;\n",
              "  }\n",
              "\n",
              "  @keyframes spin {\n",
              "    0% {\n",
              "      border-color: transparent;\n",
              "      border-bottom-color: var(--fill-color);\n",
              "      border-left-color: var(--fill-color);\n",
              "    }\n",
              "    20% {\n",
              "      border-color: transparent;\n",
              "      border-left-color: var(--fill-color);\n",
              "      border-top-color: var(--fill-color);\n",
              "    }\n",
              "    30% {\n",
              "      border-color: transparent;\n",
              "      border-left-color: var(--fill-color);\n",
              "      border-top-color: var(--fill-color);\n",
              "      border-right-color: var(--fill-color);\n",
              "    }\n",
              "    40% {\n",
              "      border-color: transparent;\n",
              "      border-right-color: var(--fill-color);\n",
              "      border-top-color: var(--fill-color);\n",
              "    }\n",
              "    60% {\n",
              "      border-color: transparent;\n",
              "      border-right-color: var(--fill-color);\n",
              "    }\n",
              "    80% {\n",
              "      border-color: transparent;\n",
              "      border-right-color: var(--fill-color);\n",
              "      border-bottom-color: var(--fill-color);\n",
              "    }\n",
              "    90% {\n",
              "      border-color: transparent;\n",
              "      border-bottom-color: var(--fill-color);\n",
              "    }\n",
              "  }\n",
              "</style>\n",
              "\n",
              "  <script>\n",
              "    async function quickchart(key) {\n",
              "      const quickchartButtonEl =\n",
              "        document.querySelector('#' + key + ' button');\n",
              "      quickchartButtonEl.disabled = true;  // To prevent multiple clicks.\n",
              "      quickchartButtonEl.classList.add('colab-df-spinner');\n",
              "      try {\n",
              "        const charts = await google.colab.kernel.invokeFunction(\n",
              "            'suggestCharts', [key], {});\n",
              "      } catch (error) {\n",
              "        console.error('Error during call to suggestCharts:', error);\n",
              "      }\n",
              "      quickchartButtonEl.classList.remove('colab-df-spinner');\n",
              "      quickchartButtonEl.classList.add('colab-df-quickchart-complete');\n",
              "    }\n",
              "    (() => {\n",
              "      let quickchartButtonEl =\n",
              "        document.querySelector('#df-18cae0d9-f39a-4901-a7b6-f56c7cf111bd button');\n",
              "      quickchartButtonEl.style.display =\n",
              "        google.colab.kernel.accessAllowed ? 'block' : 'none';\n",
              "    })();\n",
              "  </script>\n",
              "</div>\n",
              "\n",
              "    </div>\n",
              "  </div>\n"
            ],
            "application/vnd.google.colaboratory.intrinsic+json": {
              "type": "dataframe",
              "repr_error": "0"
            }
          },
          "metadata": {},
          "execution_count": 4
        }
      ],
      "source": [
        "##Reading the data from the test set\n",
        "df_test=pd.read_excel('Test_set.xlsx')\n",
        "df_test.tail()"
      ]
    },
    {
      "cell_type": "code",
      "execution_count": null,
      "metadata": {
        "colab": {
          "base_uri": "https://localhost:8080/",
          "height": 608
        },
        "id": "ltrGt8sD2dXc",
        "outputId": "ce1888b3-5a31-4660-a522-686e635753f5"
      },
      "outputs": [
        {
          "output_type": "execute_result",
          "data": {
            "text/plain": [
              "       Airline Date_of_Journey    Source Destination                  Route  \\\n",
              "0       IndiGo      24/03/2019  Banglore   New Delhi              BLR → DEL   \n",
              "1    Air India       1/05/2019   Kolkata    Banglore  CCU → IXR → BBI → BLR   \n",
              "2  Jet Airways       9/06/2019     Delhi      Cochin  DEL → LKO → BOM → COK   \n",
              "3       IndiGo      12/05/2019   Kolkata    Banglore        CCU → NAG → BLR   \n",
              "4       IndiGo      01/03/2019  Banglore   New Delhi        BLR → NAG → DEL   \n",
              "\n",
              "  Dep_Time  Arrival_Time Duration Total_Stops Additional_Info    Price  \n",
              "0    22:20  01:10 22 Mar   2h 50m    non-stop         No info   3897.0  \n",
              "1    05:50         13:15   7h 25m     2 stops         No info   7662.0  \n",
              "2    09:25  04:25 10 Jun      19h     2 stops         No info  13882.0  \n",
              "3    18:05         23:30   5h 25m      1 stop         No info   6218.0  \n",
              "4    16:50         21:35   4h 45m      1 stop         No info  13302.0  "
            ],
            "text/html": [
              "\n",
              "  <div id=\"df-af3bf590-68f7-4d88-a281-b2b5be7d8d55\" class=\"colab-df-container\">\n",
              "    <div>\n",
              "<style scoped>\n",
              "    .dataframe tbody tr th:only-of-type {\n",
              "        vertical-align: middle;\n",
              "    }\n",
              "\n",
              "    .dataframe tbody tr th {\n",
              "        vertical-align: top;\n",
              "    }\n",
              "\n",
              "    .dataframe thead th {\n",
              "        text-align: right;\n",
              "    }\n",
              "</style>\n",
              "<table border=\"1\" class=\"dataframe\">\n",
              "  <thead>\n",
              "    <tr style=\"text-align: right;\">\n",
              "      <th></th>\n",
              "      <th>Airline</th>\n",
              "      <th>Date_of_Journey</th>\n",
              "      <th>Source</th>\n",
              "      <th>Destination</th>\n",
              "      <th>Route</th>\n",
              "      <th>Dep_Time</th>\n",
              "      <th>Arrival_Time</th>\n",
              "      <th>Duration</th>\n",
              "      <th>Total_Stops</th>\n",
              "      <th>Additional_Info</th>\n",
              "      <th>Price</th>\n",
              "    </tr>\n",
              "  </thead>\n",
              "  <tbody>\n",
              "    <tr>\n",
              "      <th>0</th>\n",
              "      <td>IndiGo</td>\n",
              "      <td>24/03/2019</td>\n",
              "      <td>Banglore</td>\n",
              "      <td>New Delhi</td>\n",
              "      <td>BLR → DEL</td>\n",
              "      <td>22:20</td>\n",
              "      <td>01:10 22 Mar</td>\n",
              "      <td>2h 50m</td>\n",
              "      <td>non-stop</td>\n",
              "      <td>No info</td>\n",
              "      <td>3897.0</td>\n",
              "    </tr>\n",
              "    <tr>\n",
              "      <th>1</th>\n",
              "      <td>Air India</td>\n",
              "      <td>1/05/2019</td>\n",
              "      <td>Kolkata</td>\n",
              "      <td>Banglore</td>\n",
              "      <td>CCU → IXR → BBI → BLR</td>\n",
              "      <td>05:50</td>\n",
              "      <td>13:15</td>\n",
              "      <td>7h 25m</td>\n",
              "      <td>2 stops</td>\n",
              "      <td>No info</td>\n",
              "      <td>7662.0</td>\n",
              "    </tr>\n",
              "    <tr>\n",
              "      <th>2</th>\n",
              "      <td>Jet Airways</td>\n",
              "      <td>9/06/2019</td>\n",
              "      <td>Delhi</td>\n",
              "      <td>Cochin</td>\n",
              "      <td>DEL → LKO → BOM → COK</td>\n",
              "      <td>09:25</td>\n",
              "      <td>04:25 10 Jun</td>\n",
              "      <td>19h</td>\n",
              "      <td>2 stops</td>\n",
              "      <td>No info</td>\n",
              "      <td>13882.0</td>\n",
              "    </tr>\n",
              "    <tr>\n",
              "      <th>3</th>\n",
              "      <td>IndiGo</td>\n",
              "      <td>12/05/2019</td>\n",
              "      <td>Kolkata</td>\n",
              "      <td>Banglore</td>\n",
              "      <td>CCU → NAG → BLR</td>\n",
              "      <td>18:05</td>\n",
              "      <td>23:30</td>\n",
              "      <td>5h 25m</td>\n",
              "      <td>1 stop</td>\n",
              "      <td>No info</td>\n",
              "      <td>6218.0</td>\n",
              "    </tr>\n",
              "    <tr>\n",
              "      <th>4</th>\n",
              "      <td>IndiGo</td>\n",
              "      <td>01/03/2019</td>\n",
              "      <td>Banglore</td>\n",
              "      <td>New Delhi</td>\n",
              "      <td>BLR → NAG → DEL</td>\n",
              "      <td>16:50</td>\n",
              "      <td>21:35</td>\n",
              "      <td>4h 45m</td>\n",
              "      <td>1 stop</td>\n",
              "      <td>No info</td>\n",
              "      <td>13302.0</td>\n",
              "    </tr>\n",
              "  </tbody>\n",
              "</table>\n",
              "</div>\n",
              "    <div class=\"colab-df-buttons\">\n",
              "\n",
              "  <div class=\"colab-df-container\">\n",
              "    <button class=\"colab-df-convert\" onclick=\"convertToInteractive('df-af3bf590-68f7-4d88-a281-b2b5be7d8d55')\"\n",
              "            title=\"Convert this dataframe to an interactive table.\"\n",
              "            style=\"display:none;\">\n",
              "\n",
              "  <svg xmlns=\"http://www.w3.org/2000/svg\" height=\"24px\" viewBox=\"0 -960 960 960\">\n",
              "    <path d=\"M120-120v-720h720v720H120Zm60-500h600v-160H180v160Zm220 220h160v-160H400v160Zm0 220h160v-160H400v160ZM180-400h160v-160H180v160Zm440 0h160v-160H620v160ZM180-180h160v-160H180v160Zm440 0h160v-160H620v160Z\"/>\n",
              "  </svg>\n",
              "    </button>\n",
              "\n",
              "  <style>\n",
              "    .colab-df-container {\n",
              "      display:flex;\n",
              "      gap: 12px;\n",
              "    }\n",
              "\n",
              "    .colab-df-convert {\n",
              "      background-color: #E8F0FE;\n",
              "      border: none;\n",
              "      border-radius: 50%;\n",
              "      cursor: pointer;\n",
              "      display: none;\n",
              "      fill: #1967D2;\n",
              "      height: 32px;\n",
              "      padding: 0 0 0 0;\n",
              "      width: 32px;\n",
              "    }\n",
              "\n",
              "    .colab-df-convert:hover {\n",
              "      background-color: #E2EBFA;\n",
              "      box-shadow: 0px 1px 2px rgba(60, 64, 67, 0.3), 0px 1px 3px 1px rgba(60, 64, 67, 0.15);\n",
              "      fill: #174EA6;\n",
              "    }\n",
              "\n",
              "    .colab-df-buttons div {\n",
              "      margin-bottom: 4px;\n",
              "    }\n",
              "\n",
              "    [theme=dark] .colab-df-convert {\n",
              "      background-color: #3B4455;\n",
              "      fill: #D2E3FC;\n",
              "    }\n",
              "\n",
              "    [theme=dark] .colab-df-convert:hover {\n",
              "      background-color: #434B5C;\n",
              "      box-shadow: 0px 1px 3px 1px rgba(0, 0, 0, 0.15);\n",
              "      filter: drop-shadow(0px 1px 2px rgba(0, 0, 0, 0.3));\n",
              "      fill: #FFFFFF;\n",
              "    }\n",
              "  </style>\n",
              "\n",
              "    <script>\n",
              "      const buttonEl =\n",
              "        document.querySelector('#df-af3bf590-68f7-4d88-a281-b2b5be7d8d55 button.colab-df-convert');\n",
              "      buttonEl.style.display =\n",
              "        google.colab.kernel.accessAllowed ? 'block' : 'none';\n",
              "\n",
              "      async function convertToInteractive(key) {\n",
              "        const element = document.querySelector('#df-af3bf590-68f7-4d88-a281-b2b5be7d8d55');\n",
              "        const dataTable =\n",
              "          await google.colab.kernel.invokeFunction('convertToInteractive',\n",
              "                                                    [key], {});\n",
              "        if (!dataTable) return;\n",
              "\n",
              "        const docLinkHtml = 'Like what you see? Visit the ' +\n",
              "          '<a target=\"_blank\" href=https://colab.research.google.com/notebooks/data_table.ipynb>data table notebook</a>'\n",
              "          + ' to learn more about interactive tables.';\n",
              "        element.innerHTML = '';\n",
              "        dataTable['output_type'] = 'display_data';\n",
              "        await google.colab.output.renderOutput(dataTable, element);\n",
              "        const docLink = document.createElement('div');\n",
              "        docLink.innerHTML = docLinkHtml;\n",
              "        element.appendChild(docLink);\n",
              "      }\n",
              "    </script>\n",
              "  </div>\n",
              "\n",
              "\n",
              "<div id=\"df-e756dbbc-a694-4e11-8e26-7d76b26d78d3\">\n",
              "  <button class=\"colab-df-quickchart\" onclick=\"quickchart('df-e756dbbc-a694-4e11-8e26-7d76b26d78d3')\"\n",
              "            title=\"Suggest charts\"\n",
              "            style=\"display:none;\">\n",
              "\n",
              "<svg xmlns=\"http://www.w3.org/2000/svg\" height=\"24px\"viewBox=\"0 0 24 24\"\n",
              "     width=\"24px\">\n",
              "    <g>\n",
              "        <path d=\"M19 3H5c-1.1 0-2 .9-2 2v14c0 1.1.9 2 2 2h14c1.1 0 2-.9 2-2V5c0-1.1-.9-2-2-2zM9 17H7v-7h2v7zm4 0h-2V7h2v10zm4 0h-2v-4h2v4z\"/>\n",
              "    </g>\n",
              "</svg>\n",
              "  </button>\n",
              "\n",
              "<style>\n",
              "  .colab-df-quickchart {\n",
              "      --bg-color: #E8F0FE;\n",
              "      --fill-color: #1967D2;\n",
              "      --hover-bg-color: #E2EBFA;\n",
              "      --hover-fill-color: #174EA6;\n",
              "      --disabled-fill-color: #AAA;\n",
              "      --disabled-bg-color: #DDD;\n",
              "  }\n",
              "\n",
              "  [theme=dark] .colab-df-quickchart {\n",
              "      --bg-color: #3B4455;\n",
              "      --fill-color: #D2E3FC;\n",
              "      --hover-bg-color: #434B5C;\n",
              "      --hover-fill-color: #FFFFFF;\n",
              "      --disabled-bg-color: #3B4455;\n",
              "      --disabled-fill-color: #666;\n",
              "  }\n",
              "\n",
              "  .colab-df-quickchart {\n",
              "    background-color: var(--bg-color);\n",
              "    border: none;\n",
              "    border-radius: 50%;\n",
              "    cursor: pointer;\n",
              "    display: none;\n",
              "    fill: var(--fill-color);\n",
              "    height: 32px;\n",
              "    padding: 0;\n",
              "    width: 32px;\n",
              "  }\n",
              "\n",
              "  .colab-df-quickchart:hover {\n",
              "    background-color: var(--hover-bg-color);\n",
              "    box-shadow: 0 1px 2px rgba(60, 64, 67, 0.3), 0 1px 3px 1px rgba(60, 64, 67, 0.15);\n",
              "    fill: var(--button-hover-fill-color);\n",
              "  }\n",
              "\n",
              "  .colab-df-quickchart-complete:disabled,\n",
              "  .colab-df-quickchart-complete:disabled:hover {\n",
              "    background-color: var(--disabled-bg-color);\n",
              "    fill: var(--disabled-fill-color);\n",
              "    box-shadow: none;\n",
              "  }\n",
              "\n",
              "  .colab-df-spinner {\n",
              "    border: 2px solid var(--fill-color);\n",
              "    border-color: transparent;\n",
              "    border-bottom-color: var(--fill-color);\n",
              "    animation:\n",
              "      spin 1s steps(1) infinite;\n",
              "  }\n",
              "\n",
              "  @keyframes spin {\n",
              "    0% {\n",
              "      border-color: transparent;\n",
              "      border-bottom-color: var(--fill-color);\n",
              "      border-left-color: var(--fill-color);\n",
              "    }\n",
              "    20% {\n",
              "      border-color: transparent;\n",
              "      border-left-color: var(--fill-color);\n",
              "      border-top-color: var(--fill-color);\n",
              "    }\n",
              "    30% {\n",
              "      border-color: transparent;\n",
              "      border-left-color: var(--fill-color);\n",
              "      border-top-color: var(--fill-color);\n",
              "      border-right-color: var(--fill-color);\n",
              "    }\n",
              "    40% {\n",
              "      border-color: transparent;\n",
              "      border-right-color: var(--fill-color);\n",
              "      border-top-color: var(--fill-color);\n",
              "    }\n",
              "    60% {\n",
              "      border-color: transparent;\n",
              "      border-right-color: var(--fill-color);\n",
              "    }\n",
              "    80% {\n",
              "      border-color: transparent;\n",
              "      border-right-color: var(--fill-color);\n",
              "      border-bottom-color: var(--fill-color);\n",
              "    }\n",
              "    90% {\n",
              "      border-color: transparent;\n",
              "      border-bottom-color: var(--fill-color);\n",
              "    }\n",
              "  }\n",
              "</style>\n",
              "\n",
              "  <script>\n",
              "    async function quickchart(key) {\n",
              "      const quickchartButtonEl =\n",
              "        document.querySelector('#' + key + ' button');\n",
              "      quickchartButtonEl.disabled = true;  // To prevent multiple clicks.\n",
              "      quickchartButtonEl.classList.add('colab-df-spinner');\n",
              "      try {\n",
              "        const charts = await google.colab.kernel.invokeFunction(\n",
              "            'suggestCharts', [key], {});\n",
              "      } catch (error) {\n",
              "        console.error('Error during call to suggestCharts:', error);\n",
              "      }\n",
              "      quickchartButtonEl.classList.remove('colab-df-spinner');\n",
              "      quickchartButtonEl.classList.add('colab-df-quickchart-complete');\n",
              "    }\n",
              "    (() => {\n",
              "      let quickchartButtonEl =\n",
              "        document.querySelector('#df-e756dbbc-a694-4e11-8e26-7d76b26d78d3 button');\n",
              "      quickchartButtonEl.style.display =\n",
              "        google.colab.kernel.accessAllowed ? 'block' : 'none';\n",
              "    })();\n",
              "  </script>\n",
              "</div>\n",
              "\n",
              "    </div>\n",
              "  </div>\n"
            ],
            "application/vnd.google.colaboratory.intrinsic+json": {
              "type": "dataframe",
              "variable_name": "data",
              "summary": "{\n  \"name\": \"data\",\n  \"rows\": 13354,\n  \"fields\": [\n    {\n      \"column\": \"Airline\",\n      \"properties\": {\n        \"dtype\": \"category\",\n        \"num_unique_values\": 12,\n        \"samples\": [\n          \"Multiple carriers Premium economy\",\n          \"Jet Airways Business\",\n          \"IndiGo\"\n        ],\n        \"semantic_type\": \"\",\n        \"description\": \"\"\n      }\n    },\n    {\n      \"column\": \"Date_of_Journey\",\n      \"properties\": {\n        \"dtype\": \"date\",\n        \"min\": \"01/03/2019\",\n        \"max\": \"9/06/2019\",\n        \"num_unique_values\": 44,\n        \"samples\": [\n          \"27/03/2019\",\n          \"27/06/2019\",\n          \"21/05/2019\"\n        ],\n        \"semantic_type\": \"\",\n        \"description\": \"\"\n      }\n    },\n    {\n      \"column\": \"Source\",\n      \"properties\": {\n        \"dtype\": \"category\",\n        \"num_unique_values\": 5,\n        \"samples\": [\n          \"Kolkata\",\n          \"Mumbai\",\n          \"Delhi\"\n        ],\n        \"semantic_type\": \"\",\n        \"description\": \"\"\n      }\n    },\n    {\n      \"column\": \"Destination\",\n      \"properties\": {\n        \"dtype\": \"category\",\n        \"num_unique_values\": 6,\n        \"samples\": [\n          \"New Delhi\",\n          \"Banglore\",\n          \"Hyderabad\"\n        ],\n        \"semantic_type\": \"\",\n        \"description\": \"\"\n      }\n    },\n    {\n      \"column\": \"Route\",\n      \"properties\": {\n        \"dtype\": \"category\",\n        \"num_unique_values\": 132,\n        \"samples\": [\n          \"BOM \\u2192 JDH \\u2192 DEL \\u2192 HYD\",\n          \"BOM \\u2192 BHO \\u2192 DEL \\u2192 HYD\",\n          \"CCU \\u2192 MAA \\u2192 BLR\"\n        ],\n        \"semantic_type\": \"\",\n        \"description\": \"\"\n      }\n    },\n    {\n      \"column\": \"Dep_Time\",\n      \"properties\": {\n        \"dtype\": \"date\",\n        \"min\": \"00:20\",\n        \"max\": \"23:55\",\n        \"num_unique_values\": 223,\n        \"samples\": [\n          \"11:25\",\n          \"07:35\",\n          \"13:10\"\n        ],\n        \"semantic_type\": \"\",\n        \"description\": \"\"\n      }\n    },\n    {\n      \"column\": \"Arrival_Time\",\n      \"properties\": {\n        \"dtype\": \"date\",\n        \"min\": \"00:05 02 Apr\",\n        \"max\": \"23:55 13 Mar\",\n        \"num_unique_values\": 1451,\n        \"samples\": [\n          \"09:25 02 Jun\",\n          \"00:50 25 May\",\n          \"09:25 04 Apr\"\n        ],\n        \"semantic_type\": \"\",\n        \"description\": \"\"\n      }\n    },\n    {\n      \"column\": \"Duration\",\n      \"properties\": {\n        \"dtype\": \"category\",\n        \"num_unique_values\": 374,\n        \"samples\": [\n          \"30h 40m\",\n          \"11h 55m\",\n          \"4h 30m\"\n        ],\n        \"semantic_type\": \"\",\n        \"description\": \"\"\n      }\n    },\n    {\n      \"column\": \"Total_Stops\",\n      \"properties\": {\n        \"dtype\": \"category\",\n        \"num_unique_values\": 5,\n        \"samples\": [\n          \"2 stops\",\n          \"4 stops\",\n          \"1 stop\"\n        ],\n        \"semantic_type\": \"\",\n        \"description\": \"\"\n      }\n    },\n    {\n      \"column\": \"Additional_Info\",\n      \"properties\": {\n        \"dtype\": \"category\",\n        \"num_unique_values\": 10,\n        \"samples\": [\n          \"Red-eye flight\",\n          \"In-flight meal not included\",\n          \"1 Long layover\"\n        ],\n        \"semantic_type\": \"\",\n        \"description\": \"\"\n      }\n    },\n    {\n      \"column\": \"Price\",\n      \"properties\": {\n        \"dtype\": \"number\",\n        \"std\": 4611.35916681709,\n        \"min\": 1759.0,\n        \"max\": 79512.0,\n        \"num_unique_values\": 1870,\n        \"samples\": [\n          10810.0,\n          4588.0,\n          10056.0\n        ],\n        \"semantic_type\": \"\",\n        \"description\": \"\"\n      }\n    }\n  ]\n}"
            }
          },
          "metadata": {},
          "execution_count": 5
        }
      ],
      "source": [
        "##Combining the train and the test sets and using reset_index to ensure we have a consistent and sequential index\n",
        "data=pd.concat([df_train,df_test],axis=0)\n",
        "data.reset_index(drop=True)\n",
        "data.head()"
      ]
    },
    {
      "cell_type": "code",
      "execution_count": null,
      "metadata": {
        "colab": {
          "base_uri": "https://localhost:8080/"
        },
        "id": "tzLXAnEg5qjV",
        "outputId": "a4b1299b-bffb-493a-f5f4-2a2ae5f9fd62"
      },
      "outputs": [
        {
          "output_type": "execute_result",
          "data": {
            "text/plain": [
              "(13354, 11)"
            ]
          },
          "metadata": {},
          "execution_count": 6
        }
      ],
      "source": [
        "##Checking for the number of records and features\n",
        "data.shape"
      ]
    },
    {
      "cell_type": "code",
      "source": [
        "data.duplicated().sum()"
      ],
      "metadata": {
        "colab": {
          "base_uri": "https://localhost:8080/"
        },
        "id": "u3agAeurtk5d",
        "outputId": "dd3d5432-7129-47ab-c193-9d711ec4cc88"
      },
      "execution_count": null,
      "outputs": [
        {
          "output_type": "execute_result",
          "data": {
            "text/plain": [
              "246"
            ]
          },
          "metadata": {},
          "execution_count": 8
        }
      ]
    },
    {
      "cell_type": "code",
      "execution_count": null,
      "metadata": {
        "colab": {
          "base_uri": "https://localhost:8080/",
          "height": 1000
        },
        "id": "9nQGUjVwEpwJ",
        "outputId": "2d800f52-a554-46c4-9c13-adecd4bb4b3a"
      },
      "outputs": [
        {
          "output_type": "execute_result",
          "data": {
            "text/plain": [
              "                Airline Date_of_Journey    Source Destination  \\\n",
              "683         Jet Airways       1/06/2019     Delhi      Cochin   \n",
              "1061          Air India      21/05/2019     Delhi      Cochin   \n",
              "1348          Air India      18/05/2019     Delhi      Cochin   \n",
              "1418        Jet Airways       6/06/2019     Delhi      Cochin   \n",
              "1674             IndiGo      24/03/2019  Banglore   New Delhi   \n",
              "...                 ...             ...       ...         ...   \n",
              "2536          Air India       3/06/2019     Delhi      Cochin   \n",
              "2553        Jet Airways      15/06/2019     Delhi      Cochin   \n",
              "2560  Multiple carriers       3/06/2019     Delhi      Cochin   \n",
              "2582          Air India      12/05/2019   Kolkata    Banglore   \n",
              "2583             IndiGo      24/03/2019  Banglore   New Delhi   \n",
              "\n",
              "                      Route Dep_Time  Arrival_Time Duration Total_Stops  \\\n",
              "683   DEL → NAG → BOM → COK    14:35  04:25 02 Jun  13h 50m     2 stops   \n",
              "1061  DEL → GOI → BOM → COK    22:00  19:15 22 May  21h 15m     2 stops   \n",
              "1348  DEL → HYD → BOM → COK    17:15  19:15 19 May      26h     2 stops   \n",
              "1418  DEL → JAI → BOM → COK    05:30  04:25 07 Jun  22h 55m     2 stops   \n",
              "1674              BLR → DEL    18:25         21:20   2h 55m    non-stop   \n",
              "...                     ...      ...           ...      ...         ...   \n",
              "2536  DEL → GOI → BOM → COK    22:00  19:15 04 Jun  21h 15m     2 stops   \n",
              "2553  DEL → JAI → BOM → COK    05:30         19:00  13h 30m     2 stops   \n",
              "2560        DEL → BOM → COK    13:00  01:30 04 Jun  12h 30m      1 stop   \n",
              "2582  CCU → BOM → GOI → BLR    16:50  05:35 13 May  12h 45m     2 stops   \n",
              "2583              BLR → DEL    18:55         21:45   2h 50m    non-stop   \n",
              "\n",
              "                  Additional_Info    Price  \n",
              "683                       No info  13376.0  \n",
              "1061                      No info  10231.0  \n",
              "1348                      No info  12392.0  \n",
              "1418  In-flight meal not included  10368.0  \n",
              "1674                      No info   7303.0  \n",
              "...                           ...      ...  \n",
              "2536                      No info      NaN  \n",
              "2553                      No info      NaN  \n",
              "2560                      No info      NaN  \n",
              "2582                      No info      NaN  \n",
              "2583                      No info      NaN  \n",
              "\n",
              "[246 rows x 11 columns]"
            ],
            "text/html": [
              "\n",
              "  <div id=\"df-1b87e4a4-2b6a-4f7a-a67d-ff63831a9054\" class=\"colab-df-container\">\n",
              "    <div>\n",
              "<style scoped>\n",
              "    .dataframe tbody tr th:only-of-type {\n",
              "        vertical-align: middle;\n",
              "    }\n",
              "\n",
              "    .dataframe tbody tr th {\n",
              "        vertical-align: top;\n",
              "    }\n",
              "\n",
              "    .dataframe thead th {\n",
              "        text-align: right;\n",
              "    }\n",
              "</style>\n",
              "<table border=\"1\" class=\"dataframe\">\n",
              "  <thead>\n",
              "    <tr style=\"text-align: right;\">\n",
              "      <th></th>\n",
              "      <th>Airline</th>\n",
              "      <th>Date_of_Journey</th>\n",
              "      <th>Source</th>\n",
              "      <th>Destination</th>\n",
              "      <th>Route</th>\n",
              "      <th>Dep_Time</th>\n",
              "      <th>Arrival_Time</th>\n",
              "      <th>Duration</th>\n",
              "      <th>Total_Stops</th>\n",
              "      <th>Additional_Info</th>\n",
              "      <th>Price</th>\n",
              "    </tr>\n",
              "  </thead>\n",
              "  <tbody>\n",
              "    <tr>\n",
              "      <th>683</th>\n",
              "      <td>Jet Airways</td>\n",
              "      <td>1/06/2019</td>\n",
              "      <td>Delhi</td>\n",
              "      <td>Cochin</td>\n",
              "      <td>DEL → NAG → BOM → COK</td>\n",
              "      <td>14:35</td>\n",
              "      <td>04:25 02 Jun</td>\n",
              "      <td>13h 50m</td>\n",
              "      <td>2 stops</td>\n",
              "      <td>No info</td>\n",
              "      <td>13376.0</td>\n",
              "    </tr>\n",
              "    <tr>\n",
              "      <th>1061</th>\n",
              "      <td>Air India</td>\n",
              "      <td>21/05/2019</td>\n",
              "      <td>Delhi</td>\n",
              "      <td>Cochin</td>\n",
              "      <td>DEL → GOI → BOM → COK</td>\n",
              "      <td>22:00</td>\n",
              "      <td>19:15 22 May</td>\n",
              "      <td>21h 15m</td>\n",
              "      <td>2 stops</td>\n",
              "      <td>No info</td>\n",
              "      <td>10231.0</td>\n",
              "    </tr>\n",
              "    <tr>\n",
              "      <th>1348</th>\n",
              "      <td>Air India</td>\n",
              "      <td>18/05/2019</td>\n",
              "      <td>Delhi</td>\n",
              "      <td>Cochin</td>\n",
              "      <td>DEL → HYD → BOM → COK</td>\n",
              "      <td>17:15</td>\n",
              "      <td>19:15 19 May</td>\n",
              "      <td>26h</td>\n",
              "      <td>2 stops</td>\n",
              "      <td>No info</td>\n",
              "      <td>12392.0</td>\n",
              "    </tr>\n",
              "    <tr>\n",
              "      <th>1418</th>\n",
              "      <td>Jet Airways</td>\n",
              "      <td>6/06/2019</td>\n",
              "      <td>Delhi</td>\n",
              "      <td>Cochin</td>\n",
              "      <td>DEL → JAI → BOM → COK</td>\n",
              "      <td>05:30</td>\n",
              "      <td>04:25 07 Jun</td>\n",
              "      <td>22h 55m</td>\n",
              "      <td>2 stops</td>\n",
              "      <td>In-flight meal not included</td>\n",
              "      <td>10368.0</td>\n",
              "    </tr>\n",
              "    <tr>\n",
              "      <th>1674</th>\n",
              "      <td>IndiGo</td>\n",
              "      <td>24/03/2019</td>\n",
              "      <td>Banglore</td>\n",
              "      <td>New Delhi</td>\n",
              "      <td>BLR → DEL</td>\n",
              "      <td>18:25</td>\n",
              "      <td>21:20</td>\n",
              "      <td>2h 55m</td>\n",
              "      <td>non-stop</td>\n",
              "      <td>No info</td>\n",
              "      <td>7303.0</td>\n",
              "    </tr>\n",
              "    <tr>\n",
              "      <th>...</th>\n",
              "      <td>...</td>\n",
              "      <td>...</td>\n",
              "      <td>...</td>\n",
              "      <td>...</td>\n",
              "      <td>...</td>\n",
              "      <td>...</td>\n",
              "      <td>...</td>\n",
              "      <td>...</td>\n",
              "      <td>...</td>\n",
              "      <td>...</td>\n",
              "      <td>...</td>\n",
              "    </tr>\n",
              "    <tr>\n",
              "      <th>2536</th>\n",
              "      <td>Air India</td>\n",
              "      <td>3/06/2019</td>\n",
              "      <td>Delhi</td>\n",
              "      <td>Cochin</td>\n",
              "      <td>DEL → GOI → BOM → COK</td>\n",
              "      <td>22:00</td>\n",
              "      <td>19:15 04 Jun</td>\n",
              "      <td>21h 15m</td>\n",
              "      <td>2 stops</td>\n",
              "      <td>No info</td>\n",
              "      <td>NaN</td>\n",
              "    </tr>\n",
              "    <tr>\n",
              "      <th>2553</th>\n",
              "      <td>Jet Airways</td>\n",
              "      <td>15/06/2019</td>\n",
              "      <td>Delhi</td>\n",
              "      <td>Cochin</td>\n",
              "      <td>DEL → JAI → BOM → COK</td>\n",
              "      <td>05:30</td>\n",
              "      <td>19:00</td>\n",
              "      <td>13h 30m</td>\n",
              "      <td>2 stops</td>\n",
              "      <td>No info</td>\n",
              "      <td>NaN</td>\n",
              "    </tr>\n",
              "    <tr>\n",
              "      <th>2560</th>\n",
              "      <td>Multiple carriers</td>\n",
              "      <td>3/06/2019</td>\n",
              "      <td>Delhi</td>\n",
              "      <td>Cochin</td>\n",
              "      <td>DEL → BOM → COK</td>\n",
              "      <td>13:00</td>\n",
              "      <td>01:30 04 Jun</td>\n",
              "      <td>12h 30m</td>\n",
              "      <td>1 stop</td>\n",
              "      <td>No info</td>\n",
              "      <td>NaN</td>\n",
              "    </tr>\n",
              "    <tr>\n",
              "      <th>2582</th>\n",
              "      <td>Air India</td>\n",
              "      <td>12/05/2019</td>\n",
              "      <td>Kolkata</td>\n",
              "      <td>Banglore</td>\n",
              "      <td>CCU → BOM → GOI → BLR</td>\n",
              "      <td>16:50</td>\n",
              "      <td>05:35 13 May</td>\n",
              "      <td>12h 45m</td>\n",
              "      <td>2 stops</td>\n",
              "      <td>No info</td>\n",
              "      <td>NaN</td>\n",
              "    </tr>\n",
              "    <tr>\n",
              "      <th>2583</th>\n",
              "      <td>IndiGo</td>\n",
              "      <td>24/03/2019</td>\n",
              "      <td>Banglore</td>\n",
              "      <td>New Delhi</td>\n",
              "      <td>BLR → DEL</td>\n",
              "      <td>18:55</td>\n",
              "      <td>21:45</td>\n",
              "      <td>2h 50m</td>\n",
              "      <td>non-stop</td>\n",
              "      <td>No info</td>\n",
              "      <td>NaN</td>\n",
              "    </tr>\n",
              "  </tbody>\n",
              "</table>\n",
              "<p>246 rows × 11 columns</p>\n",
              "</div>\n",
              "    <div class=\"colab-df-buttons\">\n",
              "\n",
              "  <div class=\"colab-df-container\">\n",
              "    <button class=\"colab-df-convert\" onclick=\"convertToInteractive('df-1b87e4a4-2b6a-4f7a-a67d-ff63831a9054')\"\n",
              "            title=\"Convert this dataframe to an interactive table.\"\n",
              "            style=\"display:none;\">\n",
              "\n",
              "  <svg xmlns=\"http://www.w3.org/2000/svg\" height=\"24px\" viewBox=\"0 -960 960 960\">\n",
              "    <path d=\"M120-120v-720h720v720H120Zm60-500h600v-160H180v160Zm220 220h160v-160H400v160Zm0 220h160v-160H400v160ZM180-400h160v-160H180v160Zm440 0h160v-160H620v160ZM180-180h160v-160H180v160Zm440 0h160v-160H620v160Z\"/>\n",
              "  </svg>\n",
              "    </button>\n",
              "\n",
              "  <style>\n",
              "    .colab-df-container {\n",
              "      display:flex;\n",
              "      gap: 12px;\n",
              "    }\n",
              "\n",
              "    .colab-df-convert {\n",
              "      background-color: #E8F0FE;\n",
              "      border: none;\n",
              "      border-radius: 50%;\n",
              "      cursor: pointer;\n",
              "      display: none;\n",
              "      fill: #1967D2;\n",
              "      height: 32px;\n",
              "      padding: 0 0 0 0;\n",
              "      width: 32px;\n",
              "    }\n",
              "\n",
              "    .colab-df-convert:hover {\n",
              "      background-color: #E2EBFA;\n",
              "      box-shadow: 0px 1px 2px rgba(60, 64, 67, 0.3), 0px 1px 3px 1px rgba(60, 64, 67, 0.15);\n",
              "      fill: #174EA6;\n",
              "    }\n",
              "\n",
              "    .colab-df-buttons div {\n",
              "      margin-bottom: 4px;\n",
              "    }\n",
              "\n",
              "    [theme=dark] .colab-df-convert {\n",
              "      background-color: #3B4455;\n",
              "      fill: #D2E3FC;\n",
              "    }\n",
              "\n",
              "    [theme=dark] .colab-df-convert:hover {\n",
              "      background-color: #434B5C;\n",
              "      box-shadow: 0px 1px 3px 1px rgba(0, 0, 0, 0.15);\n",
              "      filter: drop-shadow(0px 1px 2px rgba(0, 0, 0, 0.3));\n",
              "      fill: #FFFFFF;\n",
              "    }\n",
              "  </style>\n",
              "\n",
              "    <script>\n",
              "      const buttonEl =\n",
              "        document.querySelector('#df-1b87e4a4-2b6a-4f7a-a67d-ff63831a9054 button.colab-df-convert');\n",
              "      buttonEl.style.display =\n",
              "        google.colab.kernel.accessAllowed ? 'block' : 'none';\n",
              "\n",
              "      async function convertToInteractive(key) {\n",
              "        const element = document.querySelector('#df-1b87e4a4-2b6a-4f7a-a67d-ff63831a9054');\n",
              "        const dataTable =\n",
              "          await google.colab.kernel.invokeFunction('convertToInteractive',\n",
              "                                                    [key], {});\n",
              "        if (!dataTable) return;\n",
              "\n",
              "        const docLinkHtml = 'Like what you see? Visit the ' +\n",
              "          '<a target=\"_blank\" href=https://colab.research.google.com/notebooks/data_table.ipynb>data table notebook</a>'\n",
              "          + ' to learn more about interactive tables.';\n",
              "        element.innerHTML = '';\n",
              "        dataTable['output_type'] = 'display_data';\n",
              "        await google.colab.output.renderOutput(dataTable, element);\n",
              "        const docLink = document.createElement('div');\n",
              "        docLink.innerHTML = docLinkHtml;\n",
              "        element.appendChild(docLink);\n",
              "      }\n",
              "    </script>\n",
              "  </div>\n",
              "\n",
              "\n",
              "<div id=\"df-c226673c-470f-4727-9f5d-d1f7c3d5cc0d\">\n",
              "  <button class=\"colab-df-quickchart\" onclick=\"quickchart('df-c226673c-470f-4727-9f5d-d1f7c3d5cc0d')\"\n",
              "            title=\"Suggest charts\"\n",
              "            style=\"display:none;\">\n",
              "\n",
              "<svg xmlns=\"http://www.w3.org/2000/svg\" height=\"24px\"viewBox=\"0 0 24 24\"\n",
              "     width=\"24px\">\n",
              "    <g>\n",
              "        <path d=\"M19 3H5c-1.1 0-2 .9-2 2v14c0 1.1.9 2 2 2h14c1.1 0 2-.9 2-2V5c0-1.1-.9-2-2-2zM9 17H7v-7h2v7zm4 0h-2V7h2v10zm4 0h-2v-4h2v4z\"/>\n",
              "    </g>\n",
              "</svg>\n",
              "  </button>\n",
              "\n",
              "<style>\n",
              "  .colab-df-quickchart {\n",
              "      --bg-color: #E8F0FE;\n",
              "      --fill-color: #1967D2;\n",
              "      --hover-bg-color: #E2EBFA;\n",
              "      --hover-fill-color: #174EA6;\n",
              "      --disabled-fill-color: #AAA;\n",
              "      --disabled-bg-color: #DDD;\n",
              "  }\n",
              "\n",
              "  [theme=dark] .colab-df-quickchart {\n",
              "      --bg-color: #3B4455;\n",
              "      --fill-color: #D2E3FC;\n",
              "      --hover-bg-color: #434B5C;\n",
              "      --hover-fill-color: #FFFFFF;\n",
              "      --disabled-bg-color: #3B4455;\n",
              "      --disabled-fill-color: #666;\n",
              "  }\n",
              "\n",
              "  .colab-df-quickchart {\n",
              "    background-color: var(--bg-color);\n",
              "    border: none;\n",
              "    border-radius: 50%;\n",
              "    cursor: pointer;\n",
              "    display: none;\n",
              "    fill: var(--fill-color);\n",
              "    height: 32px;\n",
              "    padding: 0;\n",
              "    width: 32px;\n",
              "  }\n",
              "\n",
              "  .colab-df-quickchart:hover {\n",
              "    background-color: var(--hover-bg-color);\n",
              "    box-shadow: 0 1px 2px rgba(60, 64, 67, 0.3), 0 1px 3px 1px rgba(60, 64, 67, 0.15);\n",
              "    fill: var(--button-hover-fill-color);\n",
              "  }\n",
              "\n",
              "  .colab-df-quickchart-complete:disabled,\n",
              "  .colab-df-quickchart-complete:disabled:hover {\n",
              "    background-color: var(--disabled-bg-color);\n",
              "    fill: var(--disabled-fill-color);\n",
              "    box-shadow: none;\n",
              "  }\n",
              "\n",
              "  .colab-df-spinner {\n",
              "    border: 2px solid var(--fill-color);\n",
              "    border-color: transparent;\n",
              "    border-bottom-color: var(--fill-color);\n",
              "    animation:\n",
              "      spin 1s steps(1) infinite;\n",
              "  }\n",
              "\n",
              "  @keyframes spin {\n",
              "    0% {\n",
              "      border-color: transparent;\n",
              "      border-bottom-color: var(--fill-color);\n",
              "      border-left-color: var(--fill-color);\n",
              "    }\n",
              "    20% {\n",
              "      border-color: transparent;\n",
              "      border-left-color: var(--fill-color);\n",
              "      border-top-color: var(--fill-color);\n",
              "    }\n",
              "    30% {\n",
              "      border-color: transparent;\n",
              "      border-left-color: var(--fill-color);\n",
              "      border-top-color: var(--fill-color);\n",
              "      border-right-color: var(--fill-color);\n",
              "    }\n",
              "    40% {\n",
              "      border-color: transparent;\n",
              "      border-right-color: var(--fill-color);\n",
              "      border-top-color: var(--fill-color);\n",
              "    }\n",
              "    60% {\n",
              "      border-color: transparent;\n",
              "      border-right-color: var(--fill-color);\n",
              "    }\n",
              "    80% {\n",
              "      border-color: transparent;\n",
              "      border-right-color: var(--fill-color);\n",
              "      border-bottom-color: var(--fill-color);\n",
              "    }\n",
              "    90% {\n",
              "      border-color: transparent;\n",
              "      border-bottom-color: var(--fill-color);\n",
              "    }\n",
              "  }\n",
              "</style>\n",
              "\n",
              "  <script>\n",
              "    async function quickchart(key) {\n",
              "      const quickchartButtonEl =\n",
              "        document.querySelector('#' + key + ' button');\n",
              "      quickchartButtonEl.disabled = true;  // To prevent multiple clicks.\n",
              "      quickchartButtonEl.classList.add('colab-df-spinner');\n",
              "      try {\n",
              "        const charts = await google.colab.kernel.invokeFunction(\n",
              "            'suggestCharts', [key], {});\n",
              "      } catch (error) {\n",
              "        console.error('Error during call to suggestCharts:', error);\n",
              "      }\n",
              "      quickchartButtonEl.classList.remove('colab-df-spinner');\n",
              "      quickchartButtonEl.classList.add('colab-df-quickchart-complete');\n",
              "    }\n",
              "    (() => {\n",
              "      let quickchartButtonEl =\n",
              "        document.querySelector('#df-c226673c-470f-4727-9f5d-d1f7c3d5cc0d button');\n",
              "      quickchartButtonEl.style.display =\n",
              "        google.colab.kernel.accessAllowed ? 'block' : 'none';\n",
              "    })();\n",
              "  </script>\n",
              "</div>\n",
              "\n",
              "    </div>\n",
              "  </div>\n"
            ],
            "application/vnd.google.colaboratory.intrinsic+json": {
              "type": "dataframe",
              "repr_error": "0"
            }
          },
          "metadata": {},
          "execution_count": 9
        }
      ],
      "source": [
        "data[data.duplicated()]"
      ]
    },
    {
      "cell_type": "code",
      "source": [
        "data.drop_duplicates(inplace=True)"
      ],
      "metadata": {
        "id": "6SGkXMP6trRx"
      },
      "execution_count": null,
      "outputs": []
    },
    {
      "cell_type": "code",
      "execution_count": null,
      "metadata": {
        "colab": {
          "base_uri": "https://localhost:8080/",
          "height": 429
        },
        "id": "WxU929iOFNqI",
        "outputId": "a926e10f-21df-4ea4-cfb8-f38d4f4876ad"
      },
      "outputs": [
        {
          "output_type": "execute_result",
          "data": {
            "text/plain": [
              "Airline               0\n",
              "Date_of_Journey       0\n",
              "Source                0\n",
              "Destination           0\n",
              "Route                 1\n",
              "Dep_Time              0\n",
              "Arrival_Time          0\n",
              "Duration              0\n",
              "Total_Stops           1\n",
              "Additional_Info       0\n",
              "Price              2645\n",
              "dtype: int64"
            ],
            "text/html": [
              "<div>\n",
              "<style scoped>\n",
              "    .dataframe tbody tr th:only-of-type {\n",
              "        vertical-align: middle;\n",
              "    }\n",
              "\n",
              "    .dataframe tbody tr th {\n",
              "        vertical-align: top;\n",
              "    }\n",
              "\n",
              "    .dataframe thead th {\n",
              "        text-align: right;\n",
              "    }\n",
              "</style>\n",
              "<table border=\"1\" class=\"dataframe\">\n",
              "  <thead>\n",
              "    <tr style=\"text-align: right;\">\n",
              "      <th></th>\n",
              "      <th>0</th>\n",
              "    </tr>\n",
              "  </thead>\n",
              "  <tbody>\n",
              "    <tr>\n",
              "      <th>Airline</th>\n",
              "      <td>0</td>\n",
              "    </tr>\n",
              "    <tr>\n",
              "      <th>Date_of_Journey</th>\n",
              "      <td>0</td>\n",
              "    </tr>\n",
              "    <tr>\n",
              "      <th>Source</th>\n",
              "      <td>0</td>\n",
              "    </tr>\n",
              "    <tr>\n",
              "      <th>Destination</th>\n",
              "      <td>0</td>\n",
              "    </tr>\n",
              "    <tr>\n",
              "      <th>Route</th>\n",
              "      <td>1</td>\n",
              "    </tr>\n",
              "    <tr>\n",
              "      <th>Dep_Time</th>\n",
              "      <td>0</td>\n",
              "    </tr>\n",
              "    <tr>\n",
              "      <th>Arrival_Time</th>\n",
              "      <td>0</td>\n",
              "    </tr>\n",
              "    <tr>\n",
              "      <th>Duration</th>\n",
              "      <td>0</td>\n",
              "    </tr>\n",
              "    <tr>\n",
              "      <th>Total_Stops</th>\n",
              "      <td>1</td>\n",
              "    </tr>\n",
              "    <tr>\n",
              "      <th>Additional_Info</th>\n",
              "      <td>0</td>\n",
              "    </tr>\n",
              "    <tr>\n",
              "      <th>Price</th>\n",
              "      <td>2645</td>\n",
              "    </tr>\n",
              "  </tbody>\n",
              "</table>\n",
              "</div><br><label><b>dtype:</b> int64</label>"
            ]
          },
          "metadata": {},
          "execution_count": 12
        }
      ],
      "source": [
        "##Checking for missing values in each column\n",
        "data.isnull().sum()"
      ]
    },
    {
      "cell_type": "code",
      "execution_count": null,
      "metadata": {
        "id": "PBBo87iT5-rk"
      },
      "outputs": [],
      "source": [
        "##Dropping Additional,Info and Route column as they do not offer much valuable insights to our price prediction\n",
        "data.drop(columns=[\"Additional_Info\"],inplace=True)\n",
        "data.head()"
      ]
    },
    {
      "cell_type": "code",
      "execution_count": null,
      "metadata": {
        "id": "1dDoolQe54w7"
      },
      "outputs": [],
      "source": [
        "###Checking for the no of unique values in each column\n",
        "data.nunique()"
      ]
    },
    {
      "cell_type": "code",
      "execution_count": null,
      "metadata": {
        "id": "PRioYBNOiF0d"
      },
      "outputs": [],
      "source": [
        "###Dropping row where Route and Total stops is missing\n",
        "data.dropna(subset=[\"Total_Stops\"],axis=0,inplace=True)\n"
      ]
    },
    {
      "cell_type": "code",
      "execution_count": null,
      "metadata": {
        "id": "FycQ7YFnq6g-"
      },
      "outputs": [],
      "source": [
        "data.isnull().sum()"
      ]
    },
    {
      "cell_type": "code",
      "execution_count": null,
      "metadata": {
        "id": "qYEzr29NLpcG"
      },
      "outputs": [],
      "source": [
        "# data[\"Day\"]=data[\"Date_of_Journey\"].str.split(\"/\").str[0]\n",
        "# data[\"Month\"]=data[\"Date_of_Journey\"].str.split(\"/\").str[1]\n",
        "# data[\"Year\"]=data[\"Date_of_Journey\"].str.split(\"/\").str[2]\n",
        "\n"
      ]
    },
    {
      "cell_type": "code",
      "execution_count": null,
      "metadata": {
        "id": "lvDUtZEjLxGM"
      },
      "outputs": [],
      "source": [
        "data[\"Date_of_Journey\"]=pd.to_datetime(data[\"Date_of_Journey\"])\n",
        "data[\"Day\"]=data[\"Date_of_Journey\"].dt.day\n",
        "data[\"Month\"]=data[\"Date_of_Journey\"].dt.month\n",
        "data[\"Year\"]=data[\"Date_of_Journey\"].dt.year\n",
        "data.head()\n",
        "# data[\"Day\"]=data[\"Day\"].apply(lambda x:x.split(\"/\")[0])"
      ]
    },
    {
      "cell_type": "code",
      "execution_count": null,
      "metadata": {
        "id": "NEfZPZJpL8AH"
      },
      "outputs": [],
      "source": [
        "data[\"Day\"]=data[\"Day\"].astype(int)\n",
        "data[\"Month\"]=data[\"Month\"].astype(int)\n",
        "data[\"Year\"]=data[\"Year\"].astype(int)\n",
        "data.info()"
      ]
    },
    {
      "cell_type": "code",
      "execution_count": null,
      "metadata": {
        "id": "DjuMadj6MUdA"
      },
      "outputs": [],
      "source": [
        "data.drop(\"Date_of_Journey\",axis=1,inplace=True)"
      ]
    },
    {
      "cell_type": "code",
      "execution_count": null,
      "metadata": {
        "id": "H1v9-4BKMvhL"
      },
      "outputs": [],
      "source": [
        "###Converting the duration column to minutes\n",
        "def extract_time(time):\n",
        "  if 'h' in time:\n",
        "    hours=int(time.split('h')[0])\n",
        "    if 'm' in time:\n",
        "      minutes=int(time.split('h')[1].split('m')[0])\n",
        "    else:\n",
        "      minutes=0\n",
        "  else:\n",
        "        hours = 0\n",
        "        if 'm' in time:\n",
        "            minutes = int(time.split('m')[0])\n",
        "        else:\n",
        "            minutes = 0\n",
        "  return hours * 60 + minutes"
      ]
    },
    {
      "cell_type": "code",
      "execution_count": null,
      "metadata": {
        "id": "O_wRv-8yMvT3"
      },
      "outputs": [],
      "source": [
        "data[\"Duration\"]=data[\"Duration\"].apply(lambda time: extract_time(time))"
      ]
    },
    {
      "cell_type": "code",
      "execution_count": null,
      "metadata": {
        "id": "ObKv-ttpMvD_"
      },
      "outputs": [],
      "source": [
        "data[\"Arrival_Hour\"] = data[\"Arrival_Time\"].str.split(\" \").str[0].str.split(\":\").str[0].astype(int)\n",
        "data[\"Arrival_Mins\"] = data[\"Arrival_Time\"].str.split(\" \").str[0].str.split(\":\").str[1].astype(int)\n",
        "# data[\"Arrival_Time\"].unique()\n"
      ]
    },
    {
      "cell_type": "code",
      "execution_count": null,
      "metadata": {
        "id": "XtATaQfaMu3A"
      },
      "outputs": [],
      "source": [
        "data.drop(\"Arrival_Time\",axis=1,inplace=True)"
      ]
    },
    {
      "cell_type": "code",
      "execution_count": null,
      "metadata": {
        "id": "De2gHuDoT2xL"
      },
      "outputs": [],
      "source": [
        "data[\"Dep_Hour\"] = data[\"Dep_Time\"].str.split(\":\").str[0].astype(int)\n",
        "data[\"Dep_Mins\"] = data[\"Dep_Time\"].str.split(\":\").str[1].astype(int)"
      ]
    },
    {
      "cell_type": "code",
      "execution_count": null,
      "metadata": {
        "id": "ZdLS7o7oUI7Z"
      },
      "outputs": [],
      "source": [
        "data.drop(\"Dep_Time\",axis=1,inplace=True)\n",
        "data.head()"
      ]
    },
    {
      "cell_type": "code",
      "execution_count": null,
      "metadata": {
        "id": "onarqTsc2KR3"
      },
      "outputs": [],
      "source": [
        "data.info()"
      ]
    },
    {
      "cell_type": "code",
      "source": [
        "data[\"Route\"].unique()"
      ],
      "metadata": {
        "colab": {
          "base_uri": "https://localhost:8080/"
        },
        "id": "Lsa_T3BFutEJ",
        "outputId": "94df57df-3d91-460e-c292-f6f3dff2f4ec"
      },
      "execution_count": null,
      "outputs": [
        {
          "output_type": "execute_result",
          "data": {
            "text/plain": [
              "array(['BLR → DEL', 'CCU → IXR → BBI → BLR', 'DEL → LKO → BOM → COK',\n",
              "       'CCU → NAG → BLR', 'BLR → NAG → DEL', 'CCU → BLR',\n",
              "       'BLR → BOM → DEL', 'DEL → BOM → COK', 'DEL → BLR → COK',\n",
              "       'MAA → CCU', 'CCU → BOM → BLR', 'DEL → AMD → BOM → COK',\n",
              "       'DEL → PNQ → COK', 'DEL → CCU → BOM → COK', 'BLR → COK → DEL',\n",
              "       'DEL → IDR → BOM → COK', 'DEL → LKO → COK',\n",
              "       'CCU → GAU → DEL → BLR', 'DEL → NAG → BOM → COK',\n",
              "       'CCU → MAA → BLR', 'DEL → HYD → COK', 'CCU → HYD → BLR',\n",
              "       'DEL → COK', 'CCU → DEL → BLR', 'BLR → BOM → AMD → DEL',\n",
              "       'BOM → DEL → HYD', 'DEL → MAA → COK', 'BOM → HYD',\n",
              "       'DEL → BHO → BOM → COK', 'DEL → JAI → BOM → COK',\n",
              "       'DEL → ATQ → BOM → COK', 'DEL → JDH → BOM → COK',\n",
              "       'CCU → BBI → BOM → BLR', 'BLR → MAA → DEL',\n",
              "       'DEL → GOI → BOM → COK', 'DEL → BDQ → BOM → COK',\n",
              "       'CCU → JAI → BOM → BLR', 'CCU → BBI → BLR', 'BLR → HYD → DEL',\n",
              "       'DEL → TRV → COK', 'CCU → IXR → DEL → BLR',\n",
              "       'DEL → IXU → BOM → COK', 'CCU → IXB → BLR',\n",
              "       'BLR → BOM → JDH → DEL', 'DEL → UDR → BOM → COK',\n",
              "       'DEL → HYD → MAA → COK', 'CCU → BOM → COK → BLR',\n",
              "       'BLR → CCU → DEL', 'CCU → BOM → GOI → BLR',\n",
              "       'DEL → RPR → NAG → BOM → COK', 'DEL → HYD → BOM → COK',\n",
              "       'CCU → DEL → AMD → BLR', 'CCU → PNQ → BLR',\n",
              "       'BLR → CCU → GAU → DEL', 'CCU → DEL → COK → BLR',\n",
              "       'BLR → PNQ → DEL', 'BOM → JDH → DEL → HYD',\n",
              "       'BLR → BOM → BHO → DEL', 'DEL → AMD → COK', 'BLR → LKO → DEL',\n",
              "       'CCU → GAU → BLR', 'BOM → GOI → HYD', 'CCU → BOM → AMD → BLR',\n",
              "       'CCU → BBI → IXR → DEL → BLR', 'DEL → DED → BOM → COK',\n",
              "       'DEL → MAA → BOM → COK', 'BLR → AMD → DEL', 'BLR → VGA → DEL',\n",
              "       'CCU → JAI → DEL → BLR', 'CCU → AMD → BLR',\n",
              "       'CCU → VNS → DEL → BLR', 'BLR → BOM → IDR → DEL',\n",
              "       'BLR → BBI → DEL', 'BLR → GOI → DEL', 'BOM → AMD → ISK → HYD',\n",
              "       'BOM → DED → DEL → HYD', 'DEL → IXC → BOM → COK',\n",
              "       'CCU → PAT → BLR', 'BLR → CCU → BBI → DEL',\n",
              "       'CCU → BBI → HYD → BLR', 'BLR → BOM → NAG → DEL',\n",
              "       'BLR → CCU → BBI → HYD → DEL', 'BLR → GAU → DEL',\n",
              "       'BOM → BHO → DEL → HYD', 'BOM → JLR → HYD',\n",
              "       'BLR → HYD → VGA → DEL', 'CCU → KNU → BLR',\n",
              "       'CCU → BOM → PNQ → BLR', 'DEL → BBI → COK',\n",
              "       'BLR → VGA → HYD → DEL', 'BOM → JDH → JAI → DEL → HYD',\n",
              "       'DEL → GWL → IDR → BOM → COK', 'CCU → RPR → HYD → BLR',\n",
              "       'CCU → VTZ → BLR', 'CCU → DEL → VGA → BLR',\n",
              "       'BLR → BOM → IDR → GWL → DEL', 'CCU → DEL → COK → TRV → BLR',\n",
              "       'BOM → COK → MAA → HYD', 'BOM → NDC → HYD', 'BLR → BDQ → DEL',\n",
              "       'CCU → BOM → TRV → BLR', 'CCU → BOM → HBX → BLR',\n",
              "       'BOM → BDQ → DEL → HYD', 'BOM → CCU → HYD',\n",
              "       'BLR → TRV → COK → DEL', 'BLR → IDR → DEL',\n",
              "       'CCU → IXZ → MAA → BLR', 'CCU → GAU → IMF → DEL → BLR',\n",
              "       'BOM → GOI → PNQ → HYD', 'BOM → BLR → CCU → BBI → HYD',\n",
              "       'BOM → MAA → HYD', 'BLR → BOM → UDR → DEL',\n",
              "       'BOM → UDR → DEL → HYD', 'BLR → VGA → VTZ → DEL',\n",
              "       'BLR → HBX → BOM → BHO → DEL', 'CCU → IXA → BLR',\n",
              "       'BOM → RPR → VTZ → HYD', 'BLR → HBX → BOM → AMD → DEL',\n",
              "       'BOM → IDR → DEL → HYD', 'BOM → BLR → HYD', 'BLR → STV → DEL',\n",
              "       'CCU → IXB → DEL → BLR', 'BOM → JAI → DEL → HYD',\n",
              "       'BOM → VNS → DEL → HYD', 'BLR → HBX → BOM → NAG → DEL', nan,\n",
              "       'BLR → BOM → IXC → DEL', 'BLR → CCU → BBI → HYD → VGA → DEL',\n",
              "       'BOM → BBI → HYD', 'BLR → TRV → DEL',\n",
              "       'CCU → IXR → BBI → BOM → BLR', 'BOM → VGA → TIR → HYD',\n",
              "       'BOM → IXC → DEL → HYD'], dtype=object)"
            ]
          },
          "metadata": {},
          "execution_count": 14
        }
      ]
    },
    {
      "cell_type": "code",
      "source": [
        "data=data[~data[\"Route\"].isnull()]"
      ],
      "metadata": {
        "id": "dcuT_CflvGU3"
      },
      "execution_count": null,
      "outputs": []
    },
    {
      "cell_type": "code",
      "source": [
        "data[\"Route\"].isnull().sum()"
      ],
      "metadata": {
        "colab": {
          "base_uri": "https://localhost:8080/"
        },
        "id": "svABmdFEwet8",
        "outputId": "9874ed01-838b-4704-dab8-23dbcff575ed"
      },
      "execution_count": null,
      "outputs": [
        {
          "output_type": "execute_result",
          "data": {
            "text/plain": [
              "0"
            ]
          },
          "metadata": {},
          "execution_count": 17
        }
      ]
    },
    {
      "cell_type": "code",
      "source": [
        "##Splitting the Route column\n",
        "data[\"Route1\"]=data[\"Route\"].str.split(\"→\").str[0]\n",
        "data[\"Route2\"]=data[\"Route\"].str.split(\"→\").str[1]\n",
        "data[\"Route3\"]=data[\"Route\"].str.split(\"→\").str[2]\n",
        "data[\"Route4\"]=data[\"Route\"].str.split(\"→\").str[3]\n",
        "data[\"Route5\"]=data[\"Route\"].str.split(\"→\").str[4]\n",
        "data[\"Route6\"]=data[\"Route\"].str.split(\"→\").str[5]"
      ],
      "metadata": {
        "id": "9CvfryYJsB47"
      },
      "execution_count": null,
      "outputs": []
    },
    {
      "cell_type": "code",
      "source": [
        "data[\"Route1\"].fillna(\"None\",inplace=True)\n",
        "data[\"Route2\"].fillna(\"None\",inplace=True)\n",
        "data[\"Route3\"].fillna(\"None\",inplace=True)\n",
        "data[\"Route4\"].fillna(\"None\",inplace=True)\n",
        "data[\"Route5\"].fillna(\"None\",inplace=True)\n",
        "data[\"Route6\"].fillna(\"None\",inplace=True)"
      ],
      "metadata": {
        "id": "7cPv2zBdwpNi"
      },
      "execution_count": null,
      "outputs": []
    },
    {
      "cell_type": "code",
      "source": [
        "data.drop([\"Route\"],axis=1,inplace=True)"
      ],
      "metadata": {
        "id": "vaBAL5orxc1w"
      },
      "execution_count": null,
      "outputs": []
    },
    {
      "cell_type": "markdown",
      "metadata": {
        "id": "3LXVnyT_rGR4"
      },
      "source": [
        "**##Data Visualisation and further analysis###**"
      ]
    },
    {
      "cell_type": "code",
      "execution_count": null,
      "metadata": {
        "id": "LECkGX15rSaz"
      },
      "outputs": [],
      "source": [
        "###Airline feature analysis###\n",
        "plt.figure(figsize = (15, 8))\n",
        "ax=sns.countplot(data=data,x=\"Airline\",order=data[\"Airline\"].value_counts().index)\n",
        "for label in ax.containers:\n",
        "    ax.bar_label(label)\n",
        "plt.xticks(rotation=85)\n",
        "plt.tight_layout()\n",
        "plt.show()"
      ]
    },
    {
      "cell_type": "markdown",
      "metadata": {
        "id": "9pTx9LhMuxU9"
      },
      "source": [
        "From the above visualization, it is found that JetAirways takes the first spot in terms of maximum flight operations followed by Indigo and Air India.Jet Airways Business,Vistara Premium ecocnomy and trujet have very minimal flights operating."
      ]
    },
    {
      "cell_type": "code",
      "execution_count": null,
      "metadata": {
        "id": "oCSrdRkky096"
      },
      "outputs": [],
      "source": [
        "###Source feature analysis###\n",
        "plt.figure(figsize = (10, 8))\n",
        "ax=sns.countplot(data=data,x=\"Source\",order=data[\"Source\"].value_counts().index)\n",
        "for label in ax.containers:\n",
        "    ax.bar_label(label)\n",
        "plt.xticks(rotation=85)\n",
        "plt.tight_layout()\n",
        "plt.show()"
      ]
    },
    {
      "cell_type": "markdown",
      "metadata": {
        "id": "EOiMDpZmzEvv"
      },
      "source": [
        "Most of the flights (5681) take off from Delhi followed by Kolkata in the second place with 3581 flights and Bangalore in the third place with 2752 flights.Mumbai and Chennai occupy the last 2 spots."
      ]
    },
    {
      "cell_type": "code",
      "execution_count": null,
      "metadata": {
        "id": "aZrtTGRbz-J0"
      },
      "outputs": [],
      "source": [
        "###Destination feature analysis###\n",
        "plt.figure(figsize = (10, 8))\n",
        "ax=sns.countplot(data=data,x=\"Destination\",order=data[\"Destination\"].value_counts().index)\n",
        "for label in ax.containers:\n",
        "    ax.bar_label(label)\n",
        "plt.xticks(rotation=85)\n",
        "plt.tight_layout()\n",
        "plt.show()"
      ]
    },
    {
      "cell_type": "markdown",
      "metadata": {
        "id": "YQ8Nshk7XQ6N"
      },
      "source": [
        "Most of the passengers fly to the final destination Cochin,followed by Bangalore and Delhi in the second and third spots"
      ]
    },
    {
      "cell_type": "code",
      "execution_count": null,
      "metadata": {
        "id": "e02e0E88XEO8"
      },
      "outputs": [],
      "source": [
        "###Month feature analysis###\n",
        "plt.figure(figsize = (10, 8))\n",
        "ax=sns.countplot(data=data,x=\"Month\",order=data[\"Month\"].value_counts().index,hue=data[\"Airline\"])\n",
        "for label in ax.containers:\n",
        "    ax.bar_label(label)\n",
        "plt.xticks(rotation=85)\n",
        "plt.tight_layout()\n",
        "plt.show()\n",
        "print(data[\"Month\"].value_counts())"
      ]
    },
    {
      "cell_type": "markdown",
      "metadata": {
        "id": "cTRmpFCTXN5A"
      },
      "source": [
        "We can observe that the May and June months have many flights operating to various destinations as these months are generally summer vacation periods.JetAirways takes the first spot in opearting many flights in the months of March,May and June.On the otherhand GoAir,Vistara Premium Economy and JetAirways Business have very few flights operating in the these months."
      ]
    },
    {
      "cell_type": "code",
      "execution_count": null,
      "metadata": {
        "id": "L94ZIVok81dF"
      },
      "outputs": [],
      "source": [
        "###Total Stops feature analysis###\n",
        "plt.figure(figsize = (15, 10))\n",
        "ax=sns.countplot(data=data,x=\"Airline\", order=data[\"Airline\"].value_counts().index,hue=\"Total_Stops\")\n",
        "for label in ax.containers:\n",
        "    ax.bar_label(label)\n",
        "plt.xticks(rotation=85)\n",
        "plt.tight_layout()\n",
        "plt.show()"
      ]
    },
    {
      "cell_type": "markdown",
      "metadata": {
        "id": "0UzwFDJ69_Zm"
      },
      "source": [
        "Out of the 4746 flights operated by JetAirways, 3137 flights make atleast one stop before flying to the final destination.Indigo operates the highest number of non stop flights.AirIndia operates the most number of flights making 2 stops before reaching the final destination.It is also the only flight having 3 and 4 stops before reaching the final destination."
      ]
    },
    {
      "cell_type": "code",
      "execution_count": null,
      "metadata": {
        "id": "qKN--ABhsDA9"
      },
      "outputs": [],
      "source": [
        "bins=[0,2,4,6,8,10,12,14,16,18,20,22,23]\n",
        "plt.hist(data[\"Dep_Hour\"], bins=bins, edgecolor=\"yellow\", color=\"green\")\n",
        "plt.xlabel(\"Departure hour\")\n",
        "plt.ylabel(\"Frequency\")\n",
        "plt.show()"
      ]
    },
    {
      "cell_type": "markdown",
      "metadata": {
        "id": "OYDO7o4fs4AB"
      },
      "source": [
        "Many flights depart between 6-10 AM and very few flights operate between 0-5 AM in the morning."
      ]
    },
    {
      "cell_type": "code",
      "execution_count": null,
      "metadata": {
        "id": "T_6WyUco-Egr"
      },
      "outputs": [],
      "source": [
        "plt.figure(figsize = (10,10))\n",
        "ax=sns.barplot(x=\"Airline\", y=\"Price\", hue=\"Total_Stops\", data=data)\n",
        "plt.xlabel(\"Airline\")\n",
        "plt.ylabel(\"Price\")\n",
        "plt.xticks(rotation=85)\n",
        "plt.title(\"Price of different airline by Total Stops\")\n",
        "plt.show()"
      ]
    },
    {
      "cell_type": "markdown",
      "metadata": {
        "id": "BrgJ1DueG5GB"
      },
      "source": [
        "1.Jet Airways Business flight with 1 stop has the highest ticket price which could possibly mean that the flight is flying to an international destaination and also the business class flights are generally expensive.\n",
        "\n",
        "2.Indigo,SpiceJet,AirAsia and GoAir flights offer much lower fares for non-stops flights compared to other flights like Vistara,Vistara Premium Economy and JetAirways\n"
      ]
    },
    {
      "cell_type": "code",
      "execution_count": null,
      "metadata": {
        "id": "F1b7RM3AaaCj"
      },
      "outputs": [],
      "source": [
        "plt.figure(figsize = (10,10))\n",
        "sns.barplot(x=data[\"Day\"], y=data[\"Price\"], data=data)\n",
        "plt.xlabel(\"Day of the Month\")\n",
        "plt.ylabel(\"Price\")\n",
        "plt.xticks(rotation=85)\n",
        "plt.title(\"Price comparison by different days of the month\")\n",
        "plt.show()"
      ]
    },
    {
      "cell_type": "markdown",
      "metadata": {
        "id": "l2UdUQAubWir"
      },
      "source": [
        "Flight fares are on a higher side whent the travel date falls on the 1 st day of the Month while the fares seem to be lower during the last few days of the month"
      ]
    },
    {
      "cell_type": "code",
      "execution_count": null,
      "metadata": {
        "id": "mIIvFQ11b4FS"
      },
      "outputs": [],
      "source": [
        "bins = [0, 2, 4, 6, 8, 10, 12, 14, 16, 18, 20, 22, 24]\n",
        "labels = ['0-2', '2-4', '4-6', '6-8', '8-10', '10-12', '12-14', '14-16', '16-18', '18-20', '20-22', '22-24']\n",
        "data['Dep_Hour_Bin'] = pd.cut(data['Dep_Hour'], bins=bins, labels=labels)\n",
        "mean_prices = data.groupby('Dep_Hour_Bin')['Price'].mean()\n",
        "sns.barplot(x=mean_prices.index, y=mean_prices.values)\n",
        "plt.xlabel(\"Departure Time\")\n",
        "plt.ylabel(\"Mean Price\")\n",
        "plt.xticks(rotation=85)\n",
        "plt.title(\"Price comparison by departure time \")\n",
        "plt.show()"
      ]
    },
    {
      "cell_type": "markdown",
      "metadata": {
        "id": "DJFbPEKzgGbq"
      },
      "source": [
        "Flights departing between 12-4 AM in the morning have the lowest fares  and the flights departing between 10PM-12AM have the highest fares"
      ]
    },
    {
      "cell_type": "code",
      "execution_count": null,
      "metadata": {
        "id": "IuTz_ERcbiR-"
      },
      "outputs": [],
      "source": [
        "# data.head()\n",
        "# df=data.copy()\n",
        "# price=df[\"Price\"]\n",
        "# df.drop(\"Price\",axis=1,inplace=True)\n",
        "# df=pd.concat([df,price],axis=1)\n",
        "# df=df.reset_index(drop=True)\n",
        "# df[df[\"Price\"].isna()]\n"
      ]
    },
    {
      "cell_type": "code",
      "source": [
        "###Dependent variable is not normally distributed and hence it needs to be scaled\n",
        "sns.distplot(data[\"Price\"],kde=True)"
      ],
      "metadata": {
        "id": "md3DJXxI2fvn"
      },
      "execution_count": null,
      "outputs": []
    },
    {
      "cell_type": "markdown",
      "metadata": {
        "id": "l62FNL6dKqSR"
      },
      "source": [
        "**##Feature Engineering##**"
      ]
    },
    {
      "cell_type": "code",
      "execution_count": null,
      "metadata": {
        "id": "Zo-SSqx6BFKP"
      },
      "outputs": [],
      "source": [
        "##Encoding the values in the total stops column\n",
        "data[\"Total_Stops\"]=data[\"Total_Stops\"].map({'non-stop':0,'1 stop':1,'2 stops':2,'3 stops':3,'4 stops':4,'nan':1})"
      ]
    },
    {
      "cell_type": "code",
      "execution_count": null,
      "metadata": {
        "id": "a5aS-R62bwvq"
      },
      "outputs": [],
      "source": [
        "##Display columns of Object data type\n",
        "data.select_dtypes(['object']).columns"
      ]
    },
    {
      "cell_type": "code",
      "execution_count": null,
      "metadata": {
        "id": "4l0L_F1W46NO"
      },
      "outputs": [],
      "source": [
        "\n",
        "# cat_data=pd.get_dummies(data[[\"Airline\",\"Source\",\"Destination\"]],drop_first=True)\n",
        "# cat_data.head()\n",
        "# num_data=data.drop([\"Dep_Hour_Bin\",\"Airline\",\"Source\",\"Destination\",\"Year\"],axis=1)\n",
        "# num_data.head()\n",
        "# final_data=pd.concat([cat_data,num_data],axis=1)\n",
        "# final_data=final_data.reset_index(drop=True)\n"
      ]
    },
    {
      "cell_type": "code",
      "source": [
        "#Feature Encoding Airline,Source and Destination columns\n",
        "from sklearn.preprocessing import LabelEncoder\n",
        "encoder=LabelEncoder()\n",
        "data[\"Airline\"]=encoder.fit_transform(data[\"Airline\"])\n",
        "data[\"Source\"]=encoder.fit_transform(data[\"Source\"])\n",
        "data[\"Destination\"]=encoder.fit_transform(data[\"Destination\"])\n",
        "data[\"Route1\"]=encoder.fit_transform(data[\"Route1\"])\n",
        "data[\"Route2\"]=encoder.fit_transform(data[\"Route2\"])\n",
        "data[\"Route3\"]=encoder.fit_transform(data[\"Route3\"])\n",
        "data[\"Route4\"]=encoder.fit_transform(data[\"Route4\"])\n",
        "data[\"Route5\"]=encoder.fit_transform(data[\"Route5\"])\n",
        "data[\"Route6\"]=encoder.fit_transform(data[\"Route6\"])"
      ],
      "metadata": {
        "id": "kA0gyaCE0KEY"
      },
      "execution_count": null,
      "outputs": []
    },
    {
      "cell_type": "code",
      "execution_count": null,
      "metadata": {
        "id": "fWtbRtje3kOa"
      },
      "outputs": [],
      "source": [
        "##Dropping the Dep Hour Bin column and segregating the train and the sets from the combined dataset\n",
        "# df_train=final_data[0:10682]\n",
        "# df_test=final_data[10682:]\n",
        "# final_data.head()\n",
        "df_train=data[0:10682]\n",
        "df_test=data[10682:]\n",
        "data.head()\n",
        "\n"
      ]
    },
    {
      "cell_type": "code",
      "execution_count": null,
      "metadata": {
        "id": "QA5qXt26rWWO"
      },
      "outputs": [],
      "source": [
        "##Creating feature and target variables\n",
        "X=df_train.drop(\"Price\",axis=1)\n",
        "test_data=df_test.drop(\"Price\",axis=1)\n",
        "y=df_train[\"Price\"]\n",
        "X.columns"
      ]
    },
    {
      "cell_type": "code",
      "source": [
        "X.select_dtypes(include='number')"
      ],
      "metadata": {
        "id": "jwmD7s5sGus_"
      },
      "execution_count": null,
      "outputs": []
    },
    {
      "cell_type": "code",
      "source": [
        "###Perform feature selection and visualization\n",
        "from sklearn.ensemble import ExtraTreesRegressor\n",
        "selection= ExtraTreesRegressor()\n",
        "selection.fit(X,y)\n",
        "plt.figure(figsize = (12,8))\n",
        "feat_importances = pd.Series(selection.feature_importances_, index=X.columns)\n",
        "feat_importances.nlargest(20).plot(kind='barh')\n",
        "plt.show()"
      ],
      "metadata": {
        "id": "sxQgioR-CCUU"
      },
      "execution_count": null,
      "outputs": []
    },
    {
      "cell_type": "markdown",
      "source": [
        "Total Stops and Day of the Journey are considered to be relevant features in the prediction of the target variable y"
      ],
      "metadata": {
        "id": "nEcmhOPbC_bR"
      }
    },
    {
      "cell_type": "code",
      "source": [
        "##Plotting the heatmap\n",
        "C=final_data.corr()\n",
        "plt.figure(figsize = (35, 19))\n",
        "plt.rcParams.update({'font.size': 12})\n",
        "sns.heatmap(C, annot = True, cmap = 'viridis', linewidths = 0.8)\n",
        "plt.title('Correlation Heatmap', size = 35)\n",
        "plt.show()"
      ],
      "metadata": {
        "id": "A3rzQREgG9gZ"
      },
      "execution_count": null,
      "outputs": []
    },
    {
      "cell_type": "markdown",
      "source": [
        "Duration and Total Stops features seem to be the most influential in the prediction of price"
      ],
      "metadata": {
        "id": "satLTTQXJFfg"
      }
    },
    {
      "cell_type": "code",
      "execution_count": null,
      "metadata": {
        "id": "KrfGIB46zCgm"
      },
      "outputs": [],
      "source": [
        "##Splitting the dataset\n",
        "X_train,X_test,y_train,y_test=tts(X,y,test_size=0.3,random_state=0,shuffle=True)\n",
        "##Applying Standardization to transform the numerical values to a common scale\n",
        "scaler = StandardScaler().set_output(transform=\"pandas\")\n",
        "X_train_scaled=scaler.fit_transform(X_train.select_dtypes(include=np.number))\n",
        "X_test_scaled=scaler.fit_transform(X_test.select_dtypes(include=np.number))\n",
        "\n",
        "##Combine scaled data with encoded data\n",
        "encoded_train_data=X_train.select_dtypes(exclude=np.number)\n",
        "encoded_test_data=X_test.select_dtypes(exclude=np.number)\n",
        "X_train_final=pd.concat([encoded_train_data,X_train_scaled],axis=1)\n",
        "X_train_final=X_train_final.reset_index(drop=True)\n",
        "\n",
        "X_test_final=pd.concat([encoded_test_data,X_test_scaled],axis=1)\n",
        "X_test_final=X_test_final.reset_index(drop=True)\n",
        "\n",
        "print(encoded_train_data.shape)\n",
        "print(X_train_scaled.shape)\n",
        "print(encoded_test_data.shape)\n",
        "print(X_test_scaled.shape)\n",
        "\n",
        "\n",
        "\n",
        "\n",
        "\n",
        "\n",
        "\n",
        "\n",
        "#\n",
        "\n",
        "\n"
      ]
    },
    {
      "cell_type": "code",
      "source": [
        "###Define a function for evaluating the performance metrics\n",
        "\n",
        "def perf_metrics(model):\n",
        "\n",
        "  model.fit(X_train_final, y_train)\n",
        "\n",
        "# Predict the test set labels\n",
        "  y_pred = model.predict(X_test_final)\n",
        "\n",
        "  y_pred_train=model.predict(X_train_final)\n",
        "\n",
        "# Evaluate the test set RMSE\n",
        "  r2_train=r2_score(y_train,y_pred_train)\n",
        "  r2_test=r2_score(y_test,y_pred)\n",
        "  mas=MAE(y_test,y_pred)\n",
        "  mse=MSE(y_test,y_pred)\n",
        "  rmse_test = np.sqrt(MSE(y_test, y_pred))\n",
        "  return r2_train,r2_test,mas,mse,rmse_test\n",
        "\n",
        "\n",
        "\n"
      ],
      "metadata": {
        "id": "GDsVnPgYc7Wj"
      },
      "execution_count": null,
      "outputs": []
    },
    {
      "cell_type": "code",
      "source": [
        "##Random Forest Regressor\n",
        "rf = RandomForestRegressor(n_estimators=50,max_depth=10,random_state=42,oob_score=True)\n",
        "r2_train,r2_test,mas,mse,rmse_test=perf_metrics(rf)\n",
        "\n",
        "print(\"Train score:\",r2_train)\n",
        "print(\"Test score:\",r2_test)\n",
        "print(\"Mean absolute error:\",mas)\n",
        "print(\"Mean squared error:\",mse)\n",
        "print(\"Root mean squared error:\",rmse_test)\n",
        "\n",
        "##OOB Accuracy (out of bag accuracy which estimates model's generalisation performance)\n",
        "acc_oob = rf.oob_score_\n",
        "\n",
        "##Printing the test accuracy and OOB accuracy\n",
        "print('OOB accuracy: {:.3f}'.format(acc_oob))\n",
        "\n",
        "\n",
        "# Create a pd.Series of features importances\n",
        "importances = pd.Series(data=rf.feature_importances_,\n",
        "                        index= X_train_final.columns)\n",
        "\n",
        "# Sort importances\n",
        "importances_sorted = importances.sort_values()\n",
        "\n",
        "# Draw a horizontal barplot of importances_sorted\n",
        "importances_sorted.plot(kind='barh', color='purple')\n",
        "plt.title('Features Importances')\n",
        "plt.show()"
      ],
      "metadata": {
        "id": "oUbPXVdIZsQM"
      },
      "execution_count": null,
      "outputs": []
    },
    {
      "cell_type": "markdown",
      "source": [
        "Overall, these metrics suggest that our Random Forest model is performing reasonably well, with a good R² score and OOB accuracy."
      ],
      "metadata": {
        "id": "ZnfZ-M1Mzdc7"
      }
    },
    {
      "cell_type": "code",
      "source": [
        "##SVR Regressor\n",
        "from sklearn.svm import SVR\n",
        "##C is like a penalty term (regualarisation parameter to prevent model overfitting and gamma parameter controls the complexity of model)\n",
        "svr_model = SVR(kernel ='rbf',C=10000,gamma=0.1)\n",
        "r2_train,r2_test,mas,mse,rmse_test=perf_metrics(svr_model)\n",
        "print(\"Train score:\",r2_train)\n",
        "print(\"Test score:\",r2_test)\n",
        "print(\"Mean absolute error:\",mas)\n",
        "print(\"Mean squared error:\",mse)\n",
        "print(\"Root mean squared error:\",rmse_test)\n",
        "\n"
      ],
      "metadata": {
        "id": "KKgpuPNqayHN"
      },
      "execution_count": null,
      "outputs": []
    },
    {
      "cell_type": "markdown",
      "source": [
        "The model explains about 77.84% of variance in the training data.It is a decent score but not a high score.Also, the model explains about 72.07% of the variance in the testing data. This is slightly lower than the training score, which is expected, as the model may not generalize as well to new data.The MAE is around 1348.97 which means that the model is, on average, off by about 1348.97 units from the actual values."
      ],
      "metadata": {
        "id": "Z8pJR1ArL8Y0"
      }
    },
    {
      "cell_type": "code",
      "source": [
        "###GradientBoostingRegressor\n",
        "grb=GradientBoostingRegressor(learning_rate=0.1,n_estimators=90, max_depth=5,verbose=False,random_state=10)\n",
        "r2_train,r2_test,mas,mse,rmse_test=perf_metrics(grb)\n",
        "print(\"Train score:\",r2_train)\n",
        "print(\"Test score:\",r2_test)\n",
        "print(\"Mean absolute error:\",mas)\n",
        "print(\"Mean squared error:\",mse)\n",
        "print(\"Root mean squared error:\",rmse_test)"
      ],
      "metadata": {
        "id": "ZUgTC9xnwvvL"
      },
      "execution_count": null,
      "outputs": []
    },
    {
      "cell_type": "markdown",
      "source": [
        "Gradient Boosting Regressor is performing reasonably well, but there is still room for improvement. The model is fitting the training data well, but it may be overfitting slightly, as the test score is lower than the train score.The MAE and RMSE indicate that the model is making errors of around 1346.50 and 2044.47 units, respectively."
      ],
      "metadata": {
        "id": "ebCeeluqKh5p"
      }
    },
    {
      "cell_type": "code",
      "source": [
        "##CatBoost Regressor\n",
        "!pip install catboost\n",
        "import catboost as cb\n",
        "from catboost import CatBoostRegressor\n",
        "model = CatBoostRegressor(iterations=100,learning_rate=0.25,depth=6)\n",
        "r2_train,r2_test,mas,mse,rmse_test=perf_metrics(model)\n",
        "print(\"Train score:\",r2_train)\n",
        "print(\"Test score:\",r2_test)\n",
        "print(\"Mean absolute error:\",mas)\n",
        "print(\"Mean squared error:\",mse)\n",
        "print(\"Root mean squared error:\",rmse_test)"
      ],
      "metadata": {
        "id": "2MFTzTI-NHS7"
      },
      "execution_count": null,
      "outputs": []
    },
    {
      "cell_type": "markdown",
      "source": [
        "The model has performed quite well but the test score seems to be lower than the training score which indicates slight overfitting. On average, the model's predictions are off by about 1336.09 units from the actual values."
      ],
      "metadata": {
        "id": "yeWXv_NNf4iH"
      }
    },
    {
      "cell_type": "code",
      "source": [
        "# Create a pd.Series of features importances\n",
        "# importances = pd.Series(data=rf.feature_importances_,\n",
        "#                         index= X_train_final.columns)\n",
        "\n",
        "# Sort importances\n",
        "# importances_sorted = importances.sort_values()\n",
        "\n",
        "# Draw a horizontal barplot of importances_sorted\n",
        "# importances_sorted.plot(kind='barh', color='purple')\n",
        "# plt.title('Features Importances')\n",
        "# plt.show()"
      ],
      "metadata": {
        "id": "EFttN_B5iCfg"
      },
      "execution_count": null,
      "outputs": []
    },
    {
      "cell_type": "code",
      "source": [],
      "metadata": {
        "id": "o6qb5cOGQu14"
      },
      "execution_count": null,
      "outputs": []
    }
  ],
  "metadata": {
    "colab": {
      "provenance": []
    },
    "kernelspec": {
      "display_name": "Python 3",
      "name": "python3"
    },
    "language_info": {
      "name": "python"
    }
  },
  "nbformat": 4,
  "nbformat_minor": 0
}